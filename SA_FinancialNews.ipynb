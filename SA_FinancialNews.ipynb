{
 "cells": [
  {
   "cell_type": "markdown",
   "metadata": {},
   "source": [
    "# Sentiment Analysis of Financial News using USE and BERT Language Models"
   ]
  },
  {
   "cell_type": "code",
   "execution_count": 1,
   "metadata": {},
   "outputs": [],
   "source": [
    "#import necessary python libraries\n",
    "import numpy as np\n",
    "import tensorflow as tf\n",
    "from tensorflow import keras\n",
    "import pandas as pd\n",
    "import seaborn as sns\n",
    "import tensorflow_hub as hub\n",
    "import tensorflow_text as text\n",
    "import time\n",
    "from sklearn.model_selection import GridSearchCV"
   ]
  },
  {
   "cell_type": "markdown",
   "metadata": {},
   "source": [
    "# 1. Loading and Splitting the dataset\n",
    "\n",
    "\n",
    "### Link to the Financial News Dataset (fn)\n",
    "\n",
    "https://huggingface.co/datasets/financial_phrasebank\n",
    "\n",
    "https://www.kaggle.com/ankurzing/sentiment-analysis-for-financial-news?select=all-data.csv\n"
   ]
  },
  {
   "cell_type": "code",
   "execution_count": 2,
   "metadata": {},
   "outputs": [],
   "source": [
    "#load financial news dataset\n",
    "df = pd.read_csv(\"all-data.csv\", delimiter=',',encoding='latin-1', header=None, names=['sentiment', 'news'])"
   ]
  },
  {
   "cell_type": "code",
   "execution_count": 3,
   "metadata": {},
   "outputs": [
    {
     "data": {
      "text/html": [
       "<div>\n",
       "<style scoped>\n",
       "    .dataframe tbody tr th:only-of-type {\n",
       "        vertical-align: middle;\n",
       "    }\n",
       "\n",
       "    .dataframe tbody tr th {\n",
       "        vertical-align: top;\n",
       "    }\n",
       "\n",
       "    .dataframe thead th {\n",
       "        text-align: right;\n",
       "    }\n",
       "</style>\n",
       "<table border=\"1\" class=\"dataframe\">\n",
       "  <thead>\n",
       "    <tr style=\"text-align: right;\">\n",
       "      <th></th>\n",
       "      <th>sentiment</th>\n",
       "      <th>news</th>\n",
       "    </tr>\n",
       "  </thead>\n",
       "  <tbody>\n",
       "    <tr>\n",
       "      <th>0</th>\n",
       "      <td>neutral</td>\n",
       "      <td>According to Gran , the company has no plans t...</td>\n",
       "    </tr>\n",
       "    <tr>\n",
       "      <th>1</th>\n",
       "      <td>neutral</td>\n",
       "      <td>Technopolis plans to develop in stages an area...</td>\n",
       "    </tr>\n",
       "    <tr>\n",
       "      <th>2</th>\n",
       "      <td>negative</td>\n",
       "      <td>The international electronic industry company ...</td>\n",
       "    </tr>\n",
       "    <tr>\n",
       "      <th>3</th>\n",
       "      <td>positive</td>\n",
       "      <td>With the new production plant the company woul...</td>\n",
       "    </tr>\n",
       "    <tr>\n",
       "      <th>4</th>\n",
       "      <td>positive</td>\n",
       "      <td>According to the company 's updated strategy f...</td>\n",
       "    </tr>\n",
       "  </tbody>\n",
       "</table>\n",
       "</div>"
      ],
      "text/plain": [
       "  sentiment                                               news\n",
       "0   neutral  According to Gran , the company has no plans t...\n",
       "1   neutral  Technopolis plans to develop in stages an area...\n",
       "2  negative  The international electronic industry company ...\n",
       "3  positive  With the new production plant the company woul...\n",
       "4  positive  According to the company 's updated strategy f..."
      ]
     },
     "execution_count": 3,
     "metadata": {},
     "output_type": "execute_result"
    }
   ],
   "source": [
    "df.head()"
   ]
  },
  {
   "cell_type": "code",
   "execution_count": 4,
   "metadata": {},
   "outputs": [
    {
     "data": {
      "text/plain": [
       "(4846, 2)"
      ]
     },
     "execution_count": 4,
     "metadata": {},
     "output_type": "execute_result"
    }
   ],
   "source": [
    "#check the size of the dataset\n",
    "df.shape"
   ]
  },
  {
   "cell_type": "markdown",
   "metadata": {},
   "source": [
    "There are 4,846 news headlines/articles with their respective sentiment in the dataset."
   ]
  },
  {
   "cell_type": "markdown",
   "metadata": {},
   "source": [
    "### Split into train and test dataset"
   ]
  },
  {
   "cell_type": "code",
   "execution_count": 5,
   "metadata": {},
   "outputs": [
    {
     "name": "stdout",
     "output_type": "stream",
     "text": [
      "3876 train and 970 test instances\n"
     ]
    }
   ],
   "source": [
    "#import scikit-learn library for machine learning and also for sampling the dataset\n",
    "from sklearn.model_selection import train_test_split\n",
    "\n",
    "#the dataset is split into train and test dataset using random sampling\n",
    "fntrain, fntest = train_test_split(df, test_size=0.2, random_state = 7)\n",
    "\n",
    "print(f\"{fntrain.shape[0]} train and {fntest.shape[0]} test instances\")"
   ]
  },
  {
   "cell_type": "markdown",
   "metadata": {},
   "source": [
    "The financial news dataset is split into train and test dataset."
   ]
  },
  {
   "cell_type": "code",
   "execution_count": 6,
   "metadata": {},
   "outputs": [],
   "source": [
    "#reset the index\n",
    "fntrain = fntrain.reset_index(drop=True)"
   ]
  },
  {
   "cell_type": "code",
   "execution_count": 7,
   "metadata": {},
   "outputs": [
    {
     "data": {
      "text/html": [
       "<div>\n",
       "<style scoped>\n",
       "    .dataframe tbody tr th:only-of-type {\n",
       "        vertical-align: middle;\n",
       "    }\n",
       "\n",
       "    .dataframe tbody tr th {\n",
       "        vertical-align: top;\n",
       "    }\n",
       "\n",
       "    .dataframe thead th {\n",
       "        text-align: right;\n",
       "    }\n",
       "</style>\n",
       "<table border=\"1\" class=\"dataframe\">\n",
       "  <thead>\n",
       "    <tr style=\"text-align: right;\">\n",
       "      <th></th>\n",
       "      <th>sentiment</th>\n",
       "      <th>news</th>\n",
       "    </tr>\n",
       "  </thead>\n",
       "  <tbody>\n",
       "    <tr>\n",
       "      <th>0</th>\n",
       "      <td>neutral</td>\n",
       "      <td>The investment would be some EUR5m .</td>\n",
       "    </tr>\n",
       "    <tr>\n",
       "      <th>1</th>\n",
       "      <td>positive</td>\n",
       "      <td>We hope to increase traffic volumes with the o...</td>\n",
       "    </tr>\n",
       "    <tr>\n",
       "      <th>2</th>\n",
       "      <td>positive</td>\n",
       "      <td>For the current year , Raute expects its net s...</td>\n",
       "    </tr>\n",
       "    <tr>\n",
       "      <th>3</th>\n",
       "      <td>positive</td>\n",
       "      <td>agreement with SHB 30 December 2009 - Finnish ...</td>\n",
       "    </tr>\n",
       "    <tr>\n",
       "      <th>4</th>\n",
       "      <td>positive</td>\n",
       "      <td>Diluted earnings per share ( EPS ) rose to EUR...</td>\n",
       "    </tr>\n",
       "  </tbody>\n",
       "</table>\n",
       "</div>"
      ],
      "text/plain": [
       "  sentiment                                               news\n",
       "0   neutral               The investment would be some EUR5m .\n",
       "1  positive  We hope to increase traffic volumes with the o...\n",
       "2  positive  For the current year , Raute expects its net s...\n",
       "3  positive  agreement with SHB 30 December 2009 - Finnish ...\n",
       "4  positive  Diluted earnings per share ( EPS ) rose to EUR..."
      ]
     },
     "execution_count": 7,
     "metadata": {},
     "output_type": "execute_result"
    }
   ],
   "source": [
    "fntrain.head()"
   ]
  },
  {
   "cell_type": "code",
   "execution_count": 8,
   "metadata": {},
   "outputs": [],
   "source": [
    "#reset the index for test dataset\n",
    "fntest = fntest.reset_index(drop=True)"
   ]
  },
  {
   "cell_type": "code",
   "execution_count": 9,
   "metadata": {},
   "outputs": [
    {
     "name": "stdout",
     "output_type": "stream",
     "text": [
      "<class 'pandas.core.frame.DataFrame'>\n",
      "RangeIndex: 3876 entries, 0 to 3875\n",
      "Data columns (total 2 columns):\n",
      " #   Column     Non-Null Count  Dtype \n",
      "---  ------     --------------  ----- \n",
      " 0   sentiment  3876 non-null   object\n",
      " 1   news       3876 non-null   object\n",
      "dtypes: object(2)\n",
      "memory usage: 60.7+ KB\n"
     ]
    }
   ],
   "source": [
    "#info on train dataset\n",
    "fntrain.info()"
   ]
  },
  {
   "cell_type": "code",
   "execution_count": 10,
   "metadata": {},
   "outputs": [
    {
     "name": "stdout",
     "output_type": "stream",
     "text": [
      "<class 'pandas.core.frame.DataFrame'>\n",
      "RangeIndex: 970 entries, 0 to 969\n",
      "Data columns (total 2 columns):\n",
      " #   Column     Non-Null Count  Dtype \n",
      "---  ------     --------------  ----- \n",
      " 0   sentiment  970 non-null    object\n",
      " 1   news       970 non-null    object\n",
      "dtypes: object(2)\n",
      "memory usage: 15.3+ KB\n"
     ]
    }
   ],
   "source": [
    "#info on test dataset\n",
    "fntest.info()"
   ]
  },
  {
   "cell_type": "code",
   "execution_count": 11,
   "metadata": {},
   "outputs": [
    {
     "data": {
      "text/plain": [
       "sentiment    0\n",
       "news         0\n",
       "dtype: int64"
      ]
     },
     "execution_count": 11,
     "metadata": {},
     "output_type": "execute_result"
    }
   ],
   "source": [
    "#checking for null values in train and test dataset\n",
    "fntrain.isnull().sum()"
   ]
  },
  {
   "cell_type": "code",
   "execution_count": 12,
   "metadata": {},
   "outputs": [
    {
     "data": {
      "text/plain": [
       "sentiment    0\n",
       "news         0\n",
       "dtype: int64"
      ]
     },
     "execution_count": 12,
     "metadata": {},
     "output_type": "execute_result"
    }
   ],
   "source": [
    "fntest.isnull().sum()"
   ]
  },
  {
   "cell_type": "markdown",
   "metadata": {},
   "source": [
    "No null values in the dataset"
   ]
  },
  {
   "cell_type": "markdown",
   "metadata": {},
   "source": [
    "# 2. Exploratory Data Analysis"
   ]
  },
  {
   "cell_type": "code",
   "execution_count": 13,
   "metadata": {
    "scrolled": true
   },
   "outputs": [
    {
     "data": {
      "text/html": [
       "<div>\n",
       "<style scoped>\n",
       "    .dataframe tbody tr th:only-of-type {\n",
       "        vertical-align: middle;\n",
       "    }\n",
       "\n",
       "    .dataframe tbody tr th {\n",
       "        vertical-align: top;\n",
       "    }\n",
       "\n",
       "    .dataframe thead th {\n",
       "        text-align: right;\n",
       "    }\n",
       "</style>\n",
       "<table border=\"1\" class=\"dataframe\">\n",
       "  <thead>\n",
       "    <tr style=\"text-align: right;\">\n",
       "      <th></th>\n",
       "      <th>sentiment</th>\n",
       "      <th>news</th>\n",
       "    </tr>\n",
       "  </thead>\n",
       "  <tbody>\n",
       "    <tr>\n",
       "      <th>count</th>\n",
       "      <td>3876</td>\n",
       "      <td>3876</td>\n",
       "    </tr>\n",
       "    <tr>\n",
       "      <th>unique</th>\n",
       "      <td>3</td>\n",
       "      <td>3872</td>\n",
       "    </tr>\n",
       "    <tr>\n",
       "      <th>top</th>\n",
       "      <td>neutral</td>\n",
       "      <td>The issuer is solely responsible for the conte...</td>\n",
       "    </tr>\n",
       "    <tr>\n",
       "      <th>freq</th>\n",
       "      <td>2286</td>\n",
       "      <td>2</td>\n",
       "    </tr>\n",
       "  </tbody>\n",
       "</table>\n",
       "</div>"
      ],
      "text/plain": [
       "       sentiment                                               news\n",
       "count       3876                                               3876\n",
       "unique         3                                               3872\n",
       "top      neutral  The issuer is solely responsible for the conte...\n",
       "freq        2286                                                  2"
      ]
     },
     "execution_count": 13,
     "metadata": {},
     "output_type": "execute_result"
    }
   ],
   "source": [
    "#descriptive statistics on the dataset\n",
    "fntrain.describe()"
   ]
  },
  {
   "cell_type": "markdown",
   "metadata": {},
   "source": [
    "From the dataset, it can be seen that there is only 3,872 unique values which means there are 4 duplicates in the dataset"
   ]
  },
  {
   "cell_type": "code",
   "execution_count": 14,
   "metadata": {},
   "outputs": [
    {
     "data": {
      "text/plain": [
       "<AxesSubplot:xlabel='sentiment', ylabel='count'>"
      ]
     },
     "execution_count": 14,
     "metadata": {},
     "output_type": "execute_result"
    },
    {
     "data": {
      "image/png": "[encoded data removed]",
      "text/plain": [
       "<Figure size 432x288 with 1 Axes>"
      ]
     },
     "metadata": {
      "needs_background": "light"
     },
     "output_type": "display_data"
    }
   ],
   "source": [
    "#plot the sentiment in train data\n",
    "sns.countplot(x=\"sentiment\", hue=\"sentiment\", data = fntrain)"
   ]
  },
  {
   "cell_type": "code",
   "execution_count": 15,
   "metadata": {},
   "outputs": [
    {
     "data": {
      "text/plain": [
       "neutral     2286\n",
       "positive    1116\n",
       "negative     474\n",
       "Name: sentiment, dtype: int64"
      ]
     },
     "execution_count": 15,
     "metadata": {},
     "output_type": "execute_result"
    }
   ],
   "source": [
    "#count the classes in sentiment column\n",
    "fntrain[\"sentiment\"].value_counts()"
   ]
  },
  {
   "cell_type": "markdown",
   "metadata": {},
   "source": [
    "# 3. Data Cleaning, Transformation and Pre-processing"
   ]
  },
  {
   "cell_type": "code",
   "execution_count": 16,
   "metadata": {},
   "outputs": [],
   "source": [
    "#drop duplicate values\n",
    "fntrain = fntrain.drop_duplicates(subset=\"news\")"
   ]
  },
  {
   "cell_type": "code",
   "execution_count": 17,
   "metadata": {},
   "outputs": [],
   "source": [
    "#reset the index after dropping duplicates\n",
    "fntrain=fntrain.reset_index(drop=True)"
   ]
  },
  {
   "cell_type": "code",
   "execution_count": 18,
   "metadata": {},
   "outputs": [
    {
     "data": {
      "text/plain": [
       "(3872, 2)"
      ]
     },
     "execution_count": 18,
     "metadata": {},
     "output_type": "execute_result"
    }
   ],
   "source": [
    "fntrain.shape"
   ]
  },
  {
   "cell_type": "code",
   "execution_count": 19,
   "metadata": {},
   "outputs": [
    {
     "data": {
      "text/plain": [
       "neutral     2282\n",
       "positive    1116\n",
       "negative     474\n",
       "Name: sentiment, dtype: int64"
      ]
     },
     "execution_count": 19,
     "metadata": {},
     "output_type": "execute_result"
    }
   ],
   "source": [
    "fntrain[\"sentiment\"].value_counts()"
   ]
  },
  {
   "cell_type": "code",
   "execution_count": 20,
   "metadata": {},
   "outputs": [],
   "source": [
    "#seperating the target variable\n",
    "target_fntrain = fntrain[\"sentiment\"]\n",
    "target_fntest = fntest[\"sentiment\"]"
   ]
  },
  {
   "cell_type": "code",
   "execution_count": 21,
   "metadata": {},
   "outputs": [
    {
     "data": {
      "text/plain": [
       "0     neutral\n",
       "1    positive\n",
       "2    positive\n",
       "3    positive\n",
       "4    positive\n",
       "Name: sentiment, dtype: object"
      ]
     },
     "execution_count": 21,
     "metadata": {},
     "output_type": "execute_result"
    }
   ],
   "source": [
    "target_fntrain.head()"
   ]
  },
  {
   "cell_type": "markdown",
   "metadata": {},
   "source": [
    "# 4. Text Encoding - USE, BERT & Bag of Words"
   ]
  },
  {
   "cell_type": "markdown",
   "metadata": {},
   "source": [
    "# 4.1. Create Bag-of-Words representations\n",
    "\n",
    "\"CountVectorizer\" is a convenient facility to create bag-of-words representations of documents into a numpy array. Each row is considered as a document."
   ]
  },
  {
   "cell_type": "code",
   "execution_count": 22,
   "metadata": {},
   "outputs": [],
   "source": [
    "from sklearn.feature_extraction.text import CountVectorizer\n",
    "\n",
    "count_vectorizer = CountVectorizer(\n",
    "    strip_accents=\"unicode\", \n",
    "    lowercase=True,\n",
    "    tokenizer=None,        \n",
    "    preprocessor=None,     \n",
    "    stop_words=\"english\",\n",
    "    ngram_range=(1,1),     \n",
    "    analyzer=\"word\",       \n",
    "    max_df=1.0,            \n",
    "    min_df=1               \n",
    ")"
   ]
  },
  {
   "cell_type": "markdown",
   "metadata": {},
   "source": [
    "Now, \"fit_transform\" is called. This first fits on the data and then transforms the data. Creating numpy arrays where rows are documents, columns are features extracted from the documents, and values in the cells are counts of each feature in each document:"
   ]
  },
  {
   "cell_type": "code",
   "execution_count": 23,
   "metadata": {},
   "outputs": [],
   "source": [
    "# fit and tranform using training dataset \n",
    "fntrain_counts = count_vectorizer.fit_transform(fntrain.news)"
   ]
  },
  {
   "cell_type": "code",
   "execution_count": 24,
   "metadata": {},
   "outputs": [
    {
     "data": {
      "text/plain": [
       "(3872, 8779)"
      ]
     },
     "execution_count": 24,
     "metadata": {},
     "output_type": "execute_result"
    }
   ],
   "source": [
    "fntrain_counts.shape"
   ]
  },
  {
   "cell_type": "markdown",
   "metadata": {},
   "source": [
    "Thus, there 3872 rows, one for each news sentence, and 8779 columns, one for each feature.\n",
    "\n",
    "Let's check the datatype of the data:"
   ]
  },
  {
   "cell_type": "code",
   "execution_count": 25,
   "metadata": {},
   "outputs": [
    {
     "data": {
      "text/plain": [
       "scipy.sparse.csr.csr_matrix"
      ]
     },
     "execution_count": 25,
     "metadata": {},
     "output_type": "execute_result"
    }
   ],
   "source": [
    "#check type\n",
    "type(fntrain_counts)"
   ]
  },
  {
   "cell_type": "markdown",
   "metadata": {},
   "source": [
    "It is stored in a sparse matrix due to the many zeros being present in each row and spare matrix also stores the data more efficiently. \n",
    "\n",
    "The fitted \"count_vectorizer\" stores the vocabulary of the text collection on which it was fitted."
   ]
  },
  {
   "cell_type": "code",
   "execution_count": 26,
   "metadata": {
    "scrolled": true
   },
   "outputs": [
    {
     "data": {
      "text/plain": [
       "{'investment': 4227,\n",
       " 'eur5m': 3022,\n",
       " 'hope': 3902,\n",
       " 'increase': 4053,\n",
       " 'traffic': 8080,\n",
       " 'volumes': 8495,\n",
       " 'opening': 5615,\n",
       " 'freight': 3462,\n",
       " 'scandinavia': 6983,\n",
       " 'current': 2227,\n",
       " 'year': 8715,\n",
       " 'raute': 6429,\n",
       " 'expects': 3138,\n",
       " 'net': 5409,\n",
       " 'sales': 6907,\n",
       " 'operating': 5620,\n",
       " 'result': 6710,\n",
       " 'positive': 6103,\n",
       " 'agreement': 824,\n",
       " 'shb': 7171,\n",
       " '30': 286,\n",
       " 'december': 2298,\n",
       " '2009': 198,\n",
       " 'finnish': 3324,\n",
       " 'financial': 3304,\n",
       " 'services': 7129,\n",
       " 'group': 3684,\n",
       " 'aktia': 856,\n",
       " 'hel': 3825,\n",
       " 'aktav': 855,\n",
       " 'concluded': 2002,\n",
       " 'market': 4995,\n",
       " 'making': 4925,\n",
       " 'svenska': 7718,\n",
       " 'handelsbanken': 3734,\n",
       " 'sto': 7526,\n",
       " 'parties': 5817,\n",
       " 'said': 6894,\n",
       " 'today': 8015,\n",
       " 'diluted': 2445,\n",
       " 'earnings': 2656,\n",
       " 'share': 7159,\n",
       " 'eps': 2848,\n",
       " 'rose': 6810,\n",
       " 'eur': 2907,\n",
       " '68': 505,\n",
       " '50': 408,\n",
       " 'higher': 3850,\n",
       " 'bit': 1357,\n",
       " 'rates': 6419,\n",
       " 'outgoing': 5706,\n",
       " 'improves': 4027,\n",
       " 'end': 2785,\n",
       " 'user': 8320,\n",
       " 'experience': 3143,\n",
       " 'mobile': 5218,\n",
       " 'broadband': 1493,\n",
       " 'video': 8437,\n",
       " 'conferencing': 2014,\n",
       " 'file': 3285,\n",
       " 'sharing': 7167,\n",
       " 'sending': 7098,\n",
       " 'mails': 4909,\n",
       " 'attachments': 1108,\n",
       " 'margin': 4982,\n",
       " 'zanadvorov': 8745,\n",
       " 'given': 3600,\n",
       " 'chance': 1725,\n",
       " 'make': 4921,\n",
       " 'purchase': 6321,\n",
       " 'credit': 2193,\n",
       " 'deutsche': 2400,\n",
       " 'bank': 1217,\n",
       " 'usd': 8304,\n",
       " '560': 438,\n",
       " 'million': 5178,\n",
       " 'realignment': 6447,\n",
       " 'interests': 4185,\n",
       " 'sector': 7048,\n",
       " 'clearly': 1829,\n",
       " 'way': 8567,\n",
       " 'negotiations': 5400,\n",
       " 'company': 1937,\n",
       " 'decided': 2299,\n",
       " '45': 379,\n",
       " 'people': 5905,\n",
       " 'redundant': 6514,\n",
       " 'production': 6225,\n",
       " 'grounds': 3683,\n",
       " 'writing': 8690,\n",
       " 'publication': 6309,\n",
       " 'lemmink': 4684,\n",
       " 'æinen': 8760,\n",
       " 'history': 3864,\n",
       " 'continuation': 2079,\n",
       " 'earlier': 2651,\n",
       " 'collaboration': 1878,\n",
       " 'antti': 979,\n",
       " 'tuuri': 8175,\n",
       " 'international': 4196,\n",
       " 'conference': 2013,\n",
       " 'audio': 1121,\n",
       " 'webcast': 8580,\n",
       " 'concerning': 1999,\n",
       " 'january': 4302,\n",
       " 'march': 4977,\n",
       " '2010': 200,\n",
       " 'begin': 1273,\n",
       " '14': 96,\n",
       " '00': 0,\n",
       " 'eet': 2691,\n",
       " 'main': 4910,\n",
       " 'strength': 7568,\n",
       " 'cooperation': 2119,\n",
       " 'project': 6248,\n",
       " 'lies': 4716,\n",
       " 'merging': 5117,\n",
       " 'know': 4501,\n",
       " 'large': 4604,\n",
       " 'companies': 1935,\n",
       " 'addition': 752,\n",
       " 'fireplace': 3330,\n",
       " 'exports': 3164,\n",
       " 'demand': 2342,\n",
       " 'lining': 4755,\n",
       " 'stone': 7532,\n",
       " 'exceeded': 3098,\n",
       " 'level': 4695,\n",
       " 'continue': 2080,\n",
       " 'brisker': 1487,\n",
       " 'remainder': 6586,\n",
       " 'rapala': 6414,\n",
       " 'vmc': 8480,\n",
       " 'corporation': 2135,\n",
       " 'leading': 4648,\n",
       " 'fishing': 3341,\n",
       " 'tackle': 7757,\n",
       " 'sporting': 7439,\n",
       " 'goods': 3630,\n",
       " 'manufacturer': 4964,\n",
       " 'distributor': 2507,\n",
       " 'owner': 5734,\n",
       " 'peltonen': 5896,\n",
       " '80': 559,\n",
       " 'shareholding': 7163,\n",
       " 'charge': 1736,\n",
       " 'natural': 5376,\n",
       " 'gas': 3543,\n",
       " 'storage': 7539,\n",
       " 'activities': 735,\n",
       " 'france': 3451,\n",
       " 'great': 3665,\n",
       " 'britain': 1489,\n",
       " 'germany': 3590,\n",
       " 'listed': 4772,\n",
       " 'nordic': 5477,\n",
       " 'exchange': 3106,\n",
       " 'helsinki': 3837,\n",
       " 'industry': 4083,\n",
       " 'interested': 4183,\n",
       " 'glaston': 3609,\n",
       " 'solar': 7349,\n",
       " 'energy': 2794,\n",
       " 'projects': 6251,\n",
       " 'estonia': 2894,\n",
       " 'beer': 1271,\n",
       " 'overall': 5722,\n",
       " 'grew': 3671,\n",
       " 'percent': 5907,\n",
       " '130': 87,\n",
       " 'liters': 4778,\n",
       " 'www': 8696,\n",
       " 'countryelements': 2161,\n",
       " 'uk': 8207,\n",
       " 'designed': 2385,\n",
       " 'patricia': 5845,\n",
       " 'burt': 1535,\n",
       " 'just': 4366,\n",
       " 'selection': 7083,\n",
       " 'distinctive': 2500,\n",
       " 'hooked': 3901,\n",
       " 'rugs': 6851,\n",
       " 'created': 2187,\n",
       " 'recycled': 6500,\n",
       " 'materials': 5027,\n",
       " 'dyed': 2625,\n",
       " 'dyes': 2626,\n",
       " 'ship': 7188,\n",
       " 'unloader': 8268,\n",
       " 'totally': 8049,\n",
       " 'enclosed': 2782,\n",
       " 'entire': 2824,\n",
       " 'conveying': 2112,\n",
       " 'line': 4752,\n",
       " 'facilities': 3196,\n",
       " 'combined': 1895,\n",
       " '2006': 192,\n",
       " '27': 261,\n",
       " 'ebitda': 2670,\n",
       " '13': 86,\n",
       " 'storey': 7543,\n",
       " 'eco': 2674,\n",
       " 'efficient': 2700,\n",
       " 'building': 1520,\n",
       " 'gross': 3681,\n",
       " 'floor': 3369,\n",
       " 'area': 1033,\n",
       " '15': 107,\n",
       " '000': 1,\n",
       " 'sq': 7451,\n",
       " 'include': 4042,\n",
       " 'apartments': 985,\n",
       " 'category': 1660,\n",
       " 'marked': 4994,\n",
       " 'maturity': 5040,\n",
       " 'recession': 6476,\n",
       " 'good': 3629,\n",
       " 'cooperationand': 2120,\n",
       " 'time': 7993,\n",
       " 'release': 6573,\n",
       " 'capital': 1605,\n",
       " 'tied': 7975,\n",
       " 'ourmachinery': 5699,\n",
       " 'operation': 5621,\n",
       " 'cash': 1645,\n",
       " 'flow': 3375,\n",
       " 'operations': 5623,\n",
       " 'totalled': 8047,\n",
       " 'mn': 5215,\n",
       " 'compared': 1943,\n",
       " 'negative': 5395,\n",
       " 'second': 7044,\n",
       " 'quarter': 6357,\n",
       " '2008': 196,\n",
       " 'dubai': 2607,\n",
       " 'nokia': 5465,\n",
       " 'announced': 957,\n",
       " 'launch': 4626,\n",
       " 'comes': 1899,\n",
       " 'music': 5325,\n",
       " 'ground': 3682,\n",
       " 'breaking': 1465,\n",
       " 'service': 7128,\n",
       " 'introduces': 4208,\n",
       " 'new': 5421,\n",
       " 'enjoy': 2808,\n",
       " 'paper': 5788,\n",
       " 'issues': 4269,\n",
       " 'stora': 7538,\n",
       " 'enso': 2811,\n",
       " 'little': 4783,\n",
       " 'changed': 1728,\n",
       " '08': 34,\n",
       " 'pct': 5873,\n",
       " '12': 73,\n",
       " '03': 16,\n",
       " 'upm': 8289,\n",
       " 'kymmene': 4562,\n",
       " '48': 393,\n",
       " '18': 140,\n",
       " '77': 552,\n",
       " 'real': 6446,\n",
       " 'added': 750,\n",
       " '99': 641,\n",
       " 'plastic': 6024,\n",
       " 'pipe': 5994,\n",
       " 'maker': 4922,\n",
       " 'uponor': 8291,\n",
       " 'selling': 7090,\n",
       " 'irish': 4252,\n",
       " 'infrastructure': 4092,\n",
       " 'businesses': 1540,\n",
       " 'private': 6198,\n",
       " 'equity': 2855,\n",
       " '3i': 354,\n",
       " 'kemira': 4448,\n",
       " 'supply': 7686,\n",
       " 'additional': 753,\n",
       " 'iron': 4253,\n",
       " 'coagulants': 1855,\n",
       " 'plant': 6018,\n",
       " 'helsingborg': 3835,\n",
       " 'sweden': 7727,\n",
       " 'online': 5607,\n",
       " 'ice': 3957,\n",
       " 'chart': 1742,\n",
       " 'shows': 7217,\n",
       " 'sea': 7029,\n",
       " 'ports': 6093,\n",
       " 'coast': 1857,\n",
       " 'gulf': 3707,\n",
       " 'finland': 3321,\n",
       " 'total': 8044,\n",
       " 'duration': 2616,\n",
       " 'years': 8717,\n",
       " 'valued': 8370,\n",
       " 'eur11': 2915,\n",
       " 'upset': 8293,\n",
       " 'machinery': 4889,\n",
       " 'work': 8668,\n",
       " 'taken': 7767,\n",
       " 'poland': 6065,\n",
       " '2011': 201,\n",
       " 'digia': 2438,\n",
       " 'oyj': 5741,\n",
       " 'dig1v': 2437,\n",
       " 'phone': 5967,\n",
       " 'major': 4919,\n",
       " 'nok1v': 5464,\n",
       " 'acquire': 713,\n",
       " 'commercial': 1910,\n",
       " 'licensing': 4711,\n",
       " 'business': 1539,\n",
       " 'related': 6563,\n",
       " 'qt': 6350,\n",
       " 'technology': 7845,\n",
       " 'complete': 1964,\n",
       " 'shareholder': 7161,\n",
       " 'otto': 5697,\n",
       " 'henrik': 3839,\n",
       " 'bernhard': 1304,\n",
       " 'nyberg': 5533,\n",
       " 'information': 4089,\n",
       " 'shares': 7166,\n",
       " 'transferred': 8093,\n",
       " 'corresponds': 2142,\n",
       " 'number': 5523,\n",
       " 'aspo': 1078,\n",
       " 'plc': 6038,\n",
       " 'board': 1385,\n",
       " 'directors': 2463,\n",
       " 'propose': 6271,\n",
       " 'dividend': 2519,\n",
       " '95': 625,\n",
       " 'annual': 960,\n",
       " 'general': 3564,\n",
       " 'meeting': 5087,\n",
       " 'scheduled': 6994,\n",
       " 'held': 3827,\n",
       " '23': 228,\n",
       " 'amendment': 916,\n",
       " 'incur': 4058,\n",
       " 'costs': 2151,\n",
       " 'historic': 3863,\n",
       " 'analysis': 936,\n",
       " 'provided': 6294,\n",
       " 'glad': 3604,\n",
       " 'long': 4820,\n",
       " 'sodra': 7344,\n",
       " 'continues': 2082,\n",
       " 'comments': 1908,\n",
       " 'stig': 7525,\n",
       " 'goran': 3634,\n",
       " 'sandberg': 6928,\n",
       " 'affecto': 801,\n",
       " 'manager': 4943,\n",
       " 'baltic': 1209,\n",
       " 'completed': 1965,\n",
       " 'contract': 2085,\n",
       " 'hormone': 3906,\n",
       " 'treatments': 8109,\n",
       " 'intends': 4169,\n",
       " 'housing': 3923,\n",
       " 'development': 2408,\n",
       " 'acquired': 714,\n",
       " 'land': 4593,\n",
       " 'plots': 6043,\n",
       " 'construct': 2052,\n",
       " '60': 461,\n",
       " 'square': 7452,\n",
       " 'metres': 5136,\n",
       " 'annum': 964,\n",
       " 'exercise': 3122,\n",
       " 'originated': 5673,\n",
       " 'early': 2653,\n",
       " '1930s': 158,\n",
       " 'training': 8087,\n",
       " 'method': 5133,\n",
       " 'cross': 2200,\n",
       " 'country': 2160,\n",
       " 'skiers': 7288,\n",
       " 'issue': 4266,\n",
       " 'thieves': 7953,\n",
       " 'stealing': 7510,\n",
       " 'sites': 7270,\n",
       " 'mr': 5297,\n",
       " 'smith': 7325,\n",
       " 'uncommonly': 8228,\n",
       " 'weak': 8571,\n",
       " 'snow': 7337,\n",
       " 'conditions': 2007,\n",
       " 'nearly': 5388,\n",
       " 'affected': 799,\n",
       " 'chief': 1762,\n",
       " 'executive': 3117,\n",
       " 'roger': 6793,\n",
       " 'talermo': 7772,\n",
       " 'order': 5652,\n",
       " 'included': 4043,\n",
       " 'metso': 5144,\n",
       " 'fourth': 3442,\n",
       " '2007': 194,\n",
       " 'backlog': 1187,\n",
       " 'huhtamaki': 3934,\n",
       " 'stock': 7527,\n",
       " '16': 120,\n",
       " '09': 39,\n",
       " 'resolved': 6680,\n",
       " 'clarify': 1818,\n",
       " 'structure': 7586,\n",
       " 'separating': 7113,\n",
       " 'foodservice': 3395,\n",
       " 'consumer': 2062,\n",
       " 'unit': 8255,\n",
       " 'hameenlinna': 3728,\n",
       " 'transferring': 8094,\n",
       " 'wholly': 8618,\n",
       " 'owned': 5733,\n",
       " 'subsidiaries': 7616,\n",
       " 'central': 1693,\n",
       " 'maine': 4911,\n",
       " 'town': 8060,\n",
       " 'madison': 4894,\n",
       " 'soon': 7367,\n",
       " 'corp': 2133,\n",
       " 'world': 8681,\n",
       " 'largest': 4607,\n",
       " 'magazine': 4896,\n",
       " 'tuesday': 8146,\n",
       " 'reported': 6635,\n",
       " '19': 151,\n",
       " 'profit': 6236,\n",
       " 'drop': 2598,\n",
       " 'lower': 4844,\n",
       " 'prices': 6181,\n",
       " 'strong': 7581,\n",
       " 'euro': 3059,\n",
       " 'hurt': 3942,\n",
       " 'revenue': 6732,\n",
       " 'eliiv': 2744,\n",
       " 'eur1': 2909,\n",
       " 'includes': 4044,\n",
       " '39': 345,\n",
       " 'change': 1727,\n",
       " 'fair': 3207,\n",
       " 'value': 8369,\n",
       " 'properties': 6265,\n",
       " 'sampo': 6919,\n",
       " 'loan': 4797,\n",
       " 'priced': 6180,\n",
       " 'eur1bn': 2952,\n",
       " 'usd1': 8306,\n",
       " 'bn': 1380,\n",
       " 'bond': 1403,\n",
       " '889': 602,\n",
       " 'reuters': 6729,\n",
       " 'telecoms': 7873,\n",
       " 'software': 7347,\n",
       " 'developer': 2405,\n",
       " 'tecnomen': 7850,\n",
       " 'won': 8661,\n",
       " 'mln': 5210,\n",
       " 'expansion': 3133,\n",
       " 'charging': 1740,\n",
       " 'messaging': 5125,\n",
       " 'systems': 7750,\n",
       " 'fixed': 3347,\n",
       " 'networks': 5417,\n",
       " 'brasil': 1457,\n",
       " 'telecom': 7868,\n",
       " 'demonstrates': 2348,\n",
       " 'ability': 671,\n",
       " 'apply': 1005,\n",
       " 'minerals': 5186,\n",
       " 'metals': 5129,\n",
       " 'technologies': 7844,\n",
       " 'adjacent': 761,\n",
       " 'industries': 4082,\n",
       " 'oil': 5581,\n",
       " 'shale': 7152,\n",
       " 'processing': 6215,\n",
       " 'changes': 1729,\n",
       " 'effect': 2692,\n",
       " 'estimated': 2891,\n",
       " 'impact': 4005,\n",
       " 'employees': 2765,\n",
       " 'altimo': 903,\n",
       " 'previously': 6178,\n",
       " 'agreed': 822,\n",
       " 'similar': 7248,\n",
       " 'deal': 2286,\n",
       " 'telenor': 7877,\n",
       " 'merge': 5112,\n",
       " 'stakes': 7476,\n",
       " 'vimpelcom': 8453,\n",
       " 'kyivstar': 4559,\n",
       " 'gsm': 3696,\n",
       " 'metsaliitto': 5142,\n",
       " 'sell': 7087,\n",
       " 'neomarkka': 5406,\n",
       " 'accounting': 701,\n",
       " 'voting': 8506,\n",
       " 'rights': 6755,\n",
       " 'terms': 7908,\n",
       " 'transactions': 8090,\n",
       " 'remained': 6587,\n",
       " 'undisclosed': 8243,\n",
       " 'narrows': 5366,\n",
       " 'eur2': 2953,\n",
       " 'mo': 5217,\n",
       " '29': 273,\n",
       " 'october': 5555,\n",
       " 'hardware': 3766,\n",
       " 'elektrobit': 2734,\n",
       " 'ebg1v': 2668,\n",
       " 'eb': 2666,\n",
       " 'loss': 4832,\n",
       " 'narrowed': 5365,\n",
       " 'months': 5259,\n",
       " 'eur35': 2985,\n",
       " 'period': 5917,\n",
       " 'ago': 821,\n",
       " 'home': 3886,\n",
       " 'improvement': 4025,\n",
       " 'trade': 8071,\n",
       " '173': 135,\n",
       " '566': 443,\n",
       " 'lifetree': 4723,\n",
       " 'founded': 3438,\n",
       " '2000': 185,\n",
       " 'revenues': 6733,\n",
       " 'risen': 6766,\n",
       " 'average': 1161,\n",
       " '40': 358,\n",
       " 'margins': 4983,\n",
       " 'late': 4615,\n",
       " '30s': 296,\n",
       " 'inventors': 4217,\n",
       " 'mukkavilli': 5305,\n",
       " 'krishna': 4539,\n",
       " 'kiran': 4487,\n",
       " 'sabharwal': 6882,\n",
       " 'ashutosh': 1067,\n",
       " 'aazhang': 664,\n",
       " 'behnaam': 1279,\n",
       " 'finnair': 3322,\n",
       " 'decreased': 2311,\n",
       " 'passenger': 5832,\n",
       " 'kilometres': 4478,\n",
       " 'outlets': 5707,\n",
       " 'rise': 6765,\n",
       " '70': 515,\n",
       " 'restructuring': 6708,\n",
       " 'measures': 5068,\n",
       " 'affect': 798,\n",
       " 'packaging': 5751,\n",
       " 'printing': 6194,\n",
       " 'material': 5025,\n",
       " 'rautakesko': 6425,\n",
       " 'norway': 5497,\n",
       " 'russia': 6867,\n",
       " 'july': 4357,\n",
       " '2005': 191,\n",
       " 'figures': 3284,\n",
       " 'comparable': 1939,\n",
       " 'impacting': 4007,\n",
       " 'growth': 3691,\n",
       " 'starting': 7489,\n",
       " 'august': 1126,\n",
       " 'split': 7429,\n",
       " '26': 253,\n",
       " '885': 601,\n",
       " '540': 430,\n",
       " 'series': 7122,\n",
       " 'scanfil': 6985,\n",
       " 'holdings': 3880,\n",
       " '100': 44,\n",
       " 'electronics': 2732,\n",
       " 'ems': 2774,\n",
       " 'proving': 6300,\n",
       " 'cellphone': 1683,\n",
       " 'design': 2382,\n",
       " 'truly': 8135,\n",
       " 'art': 1050,\n",
       " 'website': 8584,\n",
       " '6131': 470,\n",
       " 'provides': 6297,\n",
       " 'colorful': 1889,\n",
       " 'canvas': 1595,\n",
       " 'expression': 3168,\n",
       " 'inspired': 4134,\n",
       " 'sentiments': 7105,\n",
       " 'steve': 7522,\n",
       " 'jackson': 4293,\n",
       " 'ebusiness': 2672,\n",
       " 'analyst': 937,\n",
       " 'satama': 6949,\n",
       " 'ceo': 1701,\n",
       " 'aboavista': 674,\n",
       " 'google': 3633,\n",
       " 'broke': 1499,\n",
       " 'mold': 5240,\n",
       " 'gave': 3551,\n",
       " 'away': 1171,\n",
       " 'analytics': 939,\n",
       " 'free': 3459,\n",
       " 'finnlines': 3326,\n",
       " 'announce': 956,\n",
       " 'week': 8586,\n",
       " '17': 130,\n",
       " 'situation': 7274,\n",
       " '300': 287,\n",
       " '276': 264,\n",
       " '299': 281,\n",
       " 'consensus': 2030,\n",
       " 'figure': 3283,\n",
       " 'pine': 5990,\n",
       " 'upgrade': 8284,\n",
       " 'chemical': 1756,\n",
       " 'recovery': 6493,\n",
       " 'pulp': 6317,\n",
       " 'kymi': 4561,\n",
       " 'southern': 7384,\n",
       " 'costanza': 2149,\n",
       " 'light': 4728,\n",
       " 'aluminum': 909,\n",
       " 'base': 1239,\n",
       " 'washable': 8552,\n",
       " 'shade': 7151,\n",
       " 'white': 8612,\n",
       " 'pistachio': 6002,\n",
       " 'orange': 5647,\n",
       " 'blue': 1374,\n",
       " 'red': 6502,\n",
       " 'affectogenimap': 802,\n",
       " 'halved': 3725,\n",
       " 'pearl': 5878,\n",
       " 'cjsc': 1812,\n",
       " 'subsidiary': 7617,\n",
       " 'shanghai': 7157,\n",
       " 'foreign': 3404,\n",
       " 'joint': 4330,\n",
       " 'developing': 2407,\n",
       " 'st': 7458,\n",
       " 'petersburg': 5942,\n",
       " 'comprising': 1986,\n",
       " 'meters': 5132,\n",
       " 'residential': 6671,\n",
       " 'space': 7389,\n",
       " 'hospitals': 3909,\n",
       " 'schools': 7002,\n",
       " 'nurseries': 5527,\n",
       " 'nastola': 5369,\n",
       " 'axe': 1173,\n",
       " 'jobs': 4324,\n",
       " 'february': 3245,\n",
       " 'wood': 8664,\n",
       " 'products': 6229,\n",
       " 'firm': 3332,\n",
       " 'rutav': 6869,\n",
       " 'transfer': 8091,\n",
       " 'jyvaskyla': 4375,\n",
       " 'bringing': 1483,\n",
       " 'right': 6753,\n",
       " 'kind': 4483,\n",
       " 'human': 3936,\n",
       " 'resources': 6683,\n",
       " 'envisaged': 2841,\n",
       " 'construction': 2054,\n",
       " 'ferryboats': 3266,\n",
       " 'option': 5642,\n",
       " 'units': 8259,\n",
       " 'confirmed': 2019,\n",
       " '500': 409,\n",
       " '645': 490,\n",
       " 'city': 1807,\n",
       " 'insurance': 4155,\n",
       " 'pay': 5857,\n",
       " 'compensation': 1949,\n",
       " 'scholarship': 7000,\n",
       " 'euros': 3075,\n",
       " 'recipients': 6478,\n",
       " 'chosen': 1781,\n",
       " 'recommendation': 6485,\n",
       " 'fine': 3315,\n",
       " 'arts': 1060,\n",
       " 'universities': 8262,\n",
       " 'sports': 7440,\n",
       " 'associations': 1093,\n",
       " 'alternative': 899,\n",
       " 'panostaja': 5785,\n",
       " 'offers': 5569,\n",
       " 'consideration': 2035,\n",
       " 'intake': 4157,\n",
       " 'respectively': 6687,\n",
       " '576': 448,\n",
       " 'billion': 1333,\n",
       " 'respective': 6686,\n",
       " 'september': 7119,\n",
       " 'periods': 5918,\n",
       " 'deliveries': 2337,\n",
       " 'increased': 4054,\n",
       " 'efficiency': 2699,\n",
       " 'improved': 4024,\n",
       " 'jussi': 4365,\n",
       " 'pesonen': 5937,\n",
       " 'proposed': 6272,\n",
       " 'eur0': 2908,\n",
       " 'milan': 5170,\n",
       " 'afx': 809,\n",
       " 'italian': 4274,\n",
       " 'shipping': 7193,\n",
       " 'grimaldi': 3676,\n",
       " 'stake': 7474,\n",
       " '35': 322,\n",
       " 'june': 4362,\n",
       " 'according': 696,\n",
       " 'news': 5431,\n",
       " 'agency': 812,\n",
       " 'ansa': 968,\n",
       " 'media': 5079,\n",
       " 'talentum': 7771,\n",
       " 'alexandria': 871,\n",
       " 'va': 8344,\n",
       " 'dec': 2295,\n",
       " 'united': 8257,\n",
       " 'states': 7496,\n",
       " 'patent': 5837,\n",
       " '853': 590,\n",
       " '620': 475,\n",
       " 'issued': 4267,\n",
       " 'assigned': 1084,\n",
       " 'espoo': 2881,\n",
       " 'equipment': 2853,\n",
       " 'kci': 4436,\n",
       " 'konecranes': 4513,\n",
       " 'franklin': 3457,\n",
       " 'cranes': 2184,\n",
       " 'fell': 3256,\n",
       " '65': 491,\n",
       " 'prothious': 6286,\n",
       " 'engineering': 2801,\n",
       " 'com': 1892,\n",
       " 'employs': 2770,\n",
       " 'portfolio': 6090,\n",
       " 'detailing': 2394,\n",
       " 'capacity': 1602,\n",
       " 'tonnes': 8028,\n",
       " 'organization': 5663,\n",
       " 'assume': 1094,\n",
       " 'responsibility': 6692,\n",
       " 'employment': 2769,\n",
       " 'collar': 1880,\n",
       " 'oulu': 5698,\n",
       " 'terminated': 7904,\n",
       " 'module': 5235,\n",
       " 'available': 1156,\n",
       " 'trials': 8120,\n",
       " '3q': 357,\n",
       " '07': 30,\n",
       " 'volume': 8494,\n",
       " '4q': 405,\n",
       " 'indigo': 4072,\n",
       " 'somoncom': 7363,\n",
       " 'serve': 7123,\n",
       " '377': 337,\n",
       " 'subscribers': 7612,\n",
       " 'approximately': 1019,\n",
       " 'adp': 777,\n",
       " 'feb': 3244,\n",
       " 'data': 2273,\n",
       " 'communication': 1929,\n",
       " 'solutions': 7360,\n",
       " 'teleste': 7879,\n",
       " 'tlt1v': 8009,\n",
       " '200': 184,\n",
       " 'capman': 1610,\n",
       " 'partner': 5822,\n",
       " 'able': 672,\n",
       " 'develop': 2403,\n",
       " 'focus': 3382,\n",
       " 'providing': 6298,\n",
       " 'quality': 6354,\n",
       " 'restaurant': 6701,\n",
       " 'customers': 2234,\n",
       " 'says': 6974,\n",
       " 'christopher': 1785,\n",
       " 'wynne': 8697,\n",
       " 'papa': 5786,\n",
       " 'john': 4327,\n",
       " 'kalmar': 4391,\n",
       " 'awarded': 1168,\n",
       " 'rough': 6819,\n",
       " 'terrain': 7910,\n",
       " 'container': 2070,\n",
       " 'handler': 3738,\n",
       " 'rtch': 6840,\n",
       " 'viking': 8451,\n",
       " 'head': 3794,\n",
       " 'jan': 4299,\n",
       " 'kaarstroem': 4378,\n",
       " 'told': 8017,\n",
       " 'tt': 8142,\n",
       " 'ferries': 3264,\n",
       " 'equipped': 2854,\n",
       " 'handle': 3736,\n",
       " 'passengers': 5833,\n",
       " 'safe': 6887,\n",
       " 'componenta': 1975,\n",
       " 'offer': 5565,\n",
       " 'subordinated': 7608,\n",
       " 'subscription': 7613,\n",
       " 'public': 6308,\n",
       " 'fcc': 3236,\n",
       " 'chairman': 1717,\n",
       " 'kevin': 4458,\n",
       " 'martin': 5011,\n",
       " 'play': 6032,\n",
       " 'required': 6656,\n",
       " 'extending': 3172,\n",
       " 'deregulatory': 2375,\n",
       " 'rules': 6856,\n",
       " 'digital': 2440,\n",
       " 'subscriber': 7611,\n",
       " 'lines': 4754,\n",
       " 'providers': 6296,\n",
       " 'use': 8318,\n",
       " 'op': 5612,\n",
       " 'pohjola': 6059,\n",
       " 'staff': 7468,\n",
       " 'union': 8253,\n",
       " 'boycotting': 1447,\n",
       " 'tasks': 7818,\n",
       " 'refused': 6531,\n",
       " 'sale': 6906,\n",
       " 'account': 698,\n",
       " 'determining': 2399,\n",
       " 'wages': 8519,\n",
       " 'global': 3612,\n",
       " 'supplier': 7683,\n",
       " 'sustainable': 7711,\n",
       " 'mining': 5190,\n",
       " 'power': 6123,\n",
       " 'generation': 3570,\n",
       " 'automation': 1148,\n",
       " 'recycling': 6501,\n",
       " 'government': 3641,\n",
       " 'agj': 819,\n",
       " 'recorded': 6488,\n",
       " '43': 369,\n",
       " 'generated': 3567,\n",
       " 'western': 8606,\n",
       " 'europe': 3072,\n",
       " 'statement': 7494,\n",
       " 'chaim': 1714,\n",
       " 'katzman': 4420,\n",
       " 'presentation': 6162,\n",
       " 'answer': 969,\n",
       " 'questions': 6363,\n",
       " 'roshan': 6813,\n",
       " '191': 153,\n",
       " '66': 496,\n",
       " 'delivery': 2340,\n",
       " 'coated': 1860,\n",
       " 'air': 844,\n",
       " 'winders': 8636,\n",
       " 'viewed': 8442,\n",
       " 'separately': 7112,\n",
       " 'customer': 2233,\n",
       " 'initial': 4102,\n",
       " '250': 244,\n",
       " 'excluding': 3111,\n",
       " 'vat': 8393,\n",
       " 'german': 3589,\n",
       " 'siemens': 7224,\n",
       " 'radio': 6380,\n",
       " 'network': 5415,\n",
       " 'based': 1240,\n",
       " 'telecommunications': 7872,\n",
       " 'elisa': 2745,\n",
       " 'eli1v': 2742,\n",
       " 'model': 5222,\n",
       " 'contracting': 2087,\n",
       " 'focused': 3383,\n",
       " 'management': 4942,\n",
       " 'theagreement': 7936,\n",
       " 'signed': 7232,\n",
       " 'lemminkainen': 4685,\n",
       " 'cramo': 2182,\n",
       " 'machine': 4888,\n",
       " 'fleet': 3355,\n",
       " 'oflemminkainen': 5578,\n",
       " 'talo': 7780,\n",
       " 'oy': 5740,\n",
       " 'ita': 4272,\n",
       " 'ja': 4292,\n",
       " 'pohjois': 6058,\n",
       " 'suomo': 7665,\n",
       " 'asimilar': 1070,\n",
       " 'tatu': 7821,\n",
       " 'hauhio': 3785,\n",
       " 'managing': 4946,\n",
       " 'director': 2462,\n",
       " 'ofcramo': 5563,\n",
       " 'book': 1407,\n",
       " '42': 365,\n",
       " 'corresponding': 2140,\n",
       " 'kauko': 4424,\n",
       " 'telko': 7884,\n",
       " 'press': 6168,\n",
       " '06': 26,\n",
       " 'expanding': 3131,\n",
       " 'strategic': 7556,\n",
       " 'partnership': 5825,\n",
       " 'bp': 1448,\n",
       " 'industrial': 4080,\n",
       " 'lubricants': 4858,\n",
       " 'ils': 3994,\n",
       " 'acquiring': 717,\n",
       " 'ownership': 5736,\n",
       " 'swedish': 7728,\n",
       " 'retail': 6715,\n",
       " 'molub': 5241,\n",
       " 'alloy': 887,\n",
       " 'ab': 665,\n",
       " 'omx': 5601,\n",
       " 'warning': 8545,\n",
       " 'check': 1750,\n",
       " 'bid': 1322,\n",
       " 'deka': 2327,\n",
       " 'showroom': 7216,\n",
       " 'fortitude': 3426,\n",
       " 'valley': 8365,\n",
       " 'continually': 2078,\n",
       " 'developed': 2404,\n",
       " 'predefined': 6141,\n",
       " 'schedules': 6995,\n",
       " 'apartment': 984,\n",
       " 'block': 1370,\n",
       " 'going': 3624,\n",
       " 'close': 1842,\n",
       " 'center': 1691,\n",
       " 'explained': 3151,\n",
       " 'yit': 8727,\n",
       " 'ehitus': 2708,\n",
       " 'priit': 6184,\n",
       " 'sauk': 6957,\n",
       " '220': 224,\n",
       " 'transaction': 8089,\n",
       " 'paid': 5758,\n",
       " 'form': 3413,\n",
       " 'bearing': 1261,\n",
       " 'vendor': 8412,\n",
       " 'notes': 5502,\n",
       " 'kuitu': 4549,\n",
       " 'successor': 7632,\n",
       " 'rental': 6611,\n",
       " 'merchandise': 5108,\n",
       " 'depot': 2370,\n",
       " 'raisio': 6394,\n",
       " 'malting': 4935,\n",
       " 'merger': 5114,\n",
       " 'professional': 6231,\n",
       " 'manufacturing': 4967,\n",
       " 'formed': 3419,\n",
       " 'sievi': 7225,\n",
       " 'vacon': 8352,\n",
       " 'recently': 6472,\n",
       " 'plans': 6017,\n",
       " 'build': 1518,\n",
       " 'north': 5489,\n",
       " 'american': 920,\n",
       " 'headquarters': 3802,\n",
       " 'park': 5801,\n",
       " 'chambersburg': 1723,\n",
       " 'srv': 7455,\n",
       " 'lowered': 4845,\n",
       " 'estimate': 2890,\n",
       " 'uncertainties': 8224,\n",
       " 'luna': 4868,\n",
       " 'took': 8030,\n",
       " 'fifth': 3281,\n",
       " 'place': 6008,\n",
       " '207': 209,\n",
       " 'shot': 7212,\n",
       " 'spain': 7391,\n",
       " 'beatriz': 1264,\n",
       " 'recari': 6466,\n",
       " 'martina': 5012,\n",
       " 'eberl': 2667,\n",
       " 'welsh': 8601,\n",
       " 'player': 6034,\n",
       " 'becky': 1267,\n",
       " 'brewerton': 1473,\n",
       " 'highest': 3851,\n",
       " 'placed': 6009,\n",
       " 'british': 1490,\n",
       " 'finisher': 3320,\n",
       " 'seventh': 7144,\n",
       " '210': 213,\n",
       " ...}"
      ]
     },
     "execution_count": 26,
     "metadata": {},
     "output_type": "execute_result"
    }
   ],
   "source": [
    "#display the vocabulary\n",
    "count_vectorizer.vocabulary_"
   ]
  },
  {
   "cell_type": "markdown",
   "metadata": {},
   "source": [
    "The vocabulary is just a dictionary, where keys are original words and values are their indices in the produced matrix. The vocabulary will be used internally by the fitted vectorizer, when we transform the test data, deriving a document-by-feature matrix, which has the same columns in the same order as the training data.\n",
    "\n",
    "Now, the same steps are repeated for the test dataset using \"transform\" method as the vectorizer has been fitted already."
   ]
  },
  {
   "cell_type": "code",
   "execution_count": 27,
   "metadata": {},
   "outputs": [],
   "source": [
    "#transform the test data\n",
    "fntest_counts = count_vectorizer.transform(fntest.news)"
   ]
  },
  {
   "cell_type": "code",
   "execution_count": 28,
   "metadata": {},
   "outputs": [
    {
     "data": {
      "text/plain": [
       "(970, 8779)"
      ]
     },
     "execution_count": 28,
     "metadata": {},
     "output_type": "execute_result"
    }
   ],
   "source": [
    "fntest_counts.shape"
   ]
  },
  {
   "cell_type": "markdown",
   "metadata": {},
   "source": [
    "It has 970 rows (one per news sentence), but the same number of columns as the training data, 8779."
   ]
  },
  {
   "cell_type": "markdown",
   "metadata": {},
   "source": [
    "### TF-IDF weighting for train and test dataset\n",
    "\n",
    "Further, the observed counts are transformed into TF-IDF weights."
   ]
  },
  {
   "cell_type": "code",
   "execution_count": 29,
   "metadata": {},
   "outputs": [],
   "source": [
    "#import tf-idf transformer\n",
    "from sklearn.feature_extraction.text import TfidfTransformer\n",
    "\n",
    "tfidf_transformer = TfidfTransformer()"
   ]
  },
  {
   "cell_type": "markdown",
   "metadata": {},
   "source": [
    "First the transformer is fitted on the training data and then the fitted transformer is used to transform both the train and test dataset."
   ]
  },
  {
   "cell_type": "code",
   "execution_count": 30,
   "metadata": {},
   "outputs": [],
   "source": [
    "# fit and transform the training set with \"fit_transform()\"\n",
    "fntrain_tfidf = tfidf_transformer.fit_transform(fntrain_counts)"
   ]
  },
  {
   "cell_type": "code",
   "execution_count": 31,
   "metadata": {},
   "outputs": [],
   "source": [
    "# transform test\n",
    "fntest_tfidf = tfidf_transformer.transform(fntest_counts)"
   ]
  },
  {
   "cell_type": "markdown",
   "metadata": {},
   "source": [
    "### Standardize features for train and test dataset\n",
    "\n",
    "A scaler is fitted on the training set and used to transform both the train and test datasets. The scaler used is a \"MaxAbsScaler\" as it is capable of dealing with sparse matrices."
   ]
  },
  {
   "cell_type": "code",
   "execution_count": 32,
   "metadata": {},
   "outputs": [],
   "source": [
    "from sklearn.preprocessing import MaxAbsScaler \n",
    "\n",
    "scaler = MaxAbsScaler()\n",
    "\n",
    "bow_fntrain = scaler.fit_transform(fntrain_tfidf)\n",
    "bow_fntest = scaler.transform(fntest_tfidf)"
   ]
  },
  {
   "cell_type": "code",
   "execution_count": 33,
   "metadata": {},
   "outputs": [
    {
     "data": {
      "text/plain": [
       "<3872x8779 sparse matrix of type '<class 'numpy.float64'>'\n",
       "\twith 46069 stored elements in Compressed Sparse Row format>"
      ]
     },
     "execution_count": 33,
     "metadata": {},
     "output_type": "execute_result"
    }
   ],
   "source": [
    "bow_fntrain"
   ]
  },
  {
   "cell_type": "markdown",
   "metadata": {},
   "source": [
    "# 4.2. Text encoding using Universal Sentence Encoder (USE)"
   ]
  },
  {
   "cell_type": "markdown",
   "metadata": {},
   "source": [
    "### Load the USE large - Version 5 Model"
   ]
  },
  {
   "cell_type": "code",
   "execution_count": 34,
   "metadata": {},
   "outputs": [
    {
     "name": "stdout",
     "output_type": "stream",
     "text": [
      "model https://tfhub.dev/google/universal-sentence-encoder-large/5 loaded\n"
     ]
    }
   ],
   "source": [
    "#link for universal sentence encoder - large/5\n",
    "use_link = \"https://tfhub.dev/google/universal-sentence-encoder-large/5\"\n",
    "\n",
    "#loading the model\n",
    "use = hub.load(use_link)\n",
    "print (\"model %s loaded\" % use_link)"
   ]
  },
  {
   "cell_type": "code",
   "execution_count": 35,
   "metadata": {},
   "outputs": [],
   "source": [
    "#encoding the text in train dataset using USE\n",
    "use_fntrain = use(fntrain.news).numpy()\n",
    "use_fntest = use(fntest.news).numpy()"
   ]
  },
  {
   "cell_type": "code",
   "execution_count": 36,
   "metadata": {
    "scrolled": true
   },
   "outputs": [
    {
     "name": "stdout",
     "output_type": "stream",
     "text": [
      "(3872, 512) (970, 512)\n"
     ]
    }
   ],
   "source": [
    "print(use_fntrain.shape, use_fntest.shape)"
   ]
  },
  {
   "cell_type": "markdown",
   "metadata": {},
   "source": [
    "The datasets are now encoded into high dimensional vectors where each document or sentence is represneted as a 512 dimensional vector."
   ]
  },
  {
   "cell_type": "code",
   "execution_count": 37,
   "metadata": {},
   "outputs": [
    {
     "name": "stdout",
     "output_type": "stream",
     "text": [
      "[[ 3.6610790e-02 -6.1984926e-02 -4.7805827e-02 ... -3.9341887e-03\n",
      "  -5.5702843e-02  3.2040048e-02]\n",
      " [ 4.1077740e-02 -9.7609669e-02 -3.3716664e-02 ... -6.4624776e-03\n",
      "   2.9277474e-02  2.5035428e-02]\n",
      " [-5.3814696e-03 -6.3168831e-02  4.6145193e-02 ... -8.4165692e-02\n",
      "  -7.3152319e-02 -6.9864310e-02]\n",
      " [ 3.8161073e-02 -9.9145643e-02  5.0585948e-02 ...  7.4696966e-02\n",
      "  -1.3348102e-05  7.8196414e-02]]\n"
     ]
    }
   ],
   "source": [
    "print(use_fntrain[:4])"
   ]
  },
  {
   "cell_type": "markdown",
   "metadata": {},
   "source": [
    "# 4.3. Text encoding using BERT"
   ]
  },
  {
   "cell_type": "markdown",
   "metadata": {},
   "source": [
    "### Load the BERT encoder model and it's respective preprocessor"
   ]
  },
  {
   "cell_type": "markdown",
   "metadata": {},
   "source": [
    "### Text preprocessing for BERT and BERT (L-12, H-768, A-12)"
   ]
  },
  {
   "cell_type": "code",
   "execution_count": 38,
   "metadata": {},
   "outputs": [],
   "source": [
    "prebert_link = \"https://tfhub.dev/tensorflow/bert_en_uncased_preprocess/3\"\n",
    "encoder_link = \"https://tfhub.dev/tensorflow/bert_en_uncased_L-12_H-768_A-12/4\"\n",
    "\n",
    "#load the preprocessor\n",
    "bert_preprocessor = hub.KerasLayer(prebert_link, name='preprocessing')\n",
    "\n",
    "#load the bert encoder\n",
    "bert_encoder = hub.KerasLayer(encoder_link, trainable=True, name='BERT_encoder')"
   ]
  },
  {
   "cell_type": "markdown",
   "metadata": {},
   "source": [
    "## Train Dataset"
   ]
  },
  {
   "cell_type": "code",
   "execution_count": 39,
   "metadata": {},
   "outputs": [],
   "source": [
    "#preprocess and encode the train dataset\n",
    "fntrain_encoder_inputs = bert_preprocessor(fntrain.news)\n",
    "fntrain_outputs = bert_encoder(fntrain_encoder_inputs)\n",
    "\n",
    "bert_fntrain = fntrain_outputs[\"pooled_output\"].numpy()"
   ]
  },
  {
   "cell_type": "code",
   "execution_count": 40,
   "metadata": {},
   "outputs": [
    {
     "data": {
      "text/plain": [
       "(3872, 768)"
      ]
     },
     "execution_count": 40,
     "metadata": {},
     "output_type": "execute_result"
    }
   ],
   "source": [
    "bert_fntrain.shape"
   ]
  },
  {
   "cell_type": "code",
   "execution_count": 41,
   "metadata": {},
   "outputs": [
    {
     "data": {
      "text/plain": [
       "array([[-0.89171666, -0.41728744, -0.93612653, ..., -0.8459161 ,\n",
       "        -0.54556274,  0.87919694],\n",
       "       [-0.7765689 , -0.4225265 , -0.9074052 , ..., -0.68077326,\n",
       "        -0.6153284 ,  0.77851945],\n",
       "       [-0.8450493 , -0.3459398 , -0.967964  , ..., -0.78770435,\n",
       "        -0.57966256,  0.6618056 ],\n",
       "       ...,\n",
       "       [-0.8876149 , -0.49305916, -0.9793762 , ..., -0.9268743 ,\n",
       "        -0.5198824 ,  0.8027915 ],\n",
       "       [-0.92157984, -0.56204957, -0.9729948 , ..., -0.8546584 ,\n",
       "        -0.6001062 ,  0.7973812 ],\n",
       "       [-0.73801595, -0.45210016, -0.96859324, ..., -0.8097308 ,\n",
       "        -0.57269645,  0.71344435]], dtype=float32)"
      ]
     },
     "execution_count": 41,
     "metadata": {},
     "output_type": "execute_result"
    }
   ],
   "source": [
    "bert_fntrain"
   ]
  },
  {
   "cell_type": "markdown",
   "metadata": {},
   "source": [
    "## Test Dataset"
   ]
  },
  {
   "cell_type": "code",
   "execution_count": 42,
   "metadata": {},
   "outputs": [],
   "source": [
    "#preprocess and encode the test dataset\n",
    "fntest_encoder_inputs = bert_preprocessor(fntest.news)\n",
    "fntest_outputs = bert_encoder(fntest_encoder_inputs)\n",
    "\n",
    "bert_fntest = fntest_outputs[\"pooled_output\"].numpy()"
   ]
  },
  {
   "cell_type": "code",
   "execution_count": 43,
   "metadata": {},
   "outputs": [
    {
     "data": {
      "text/plain": [
       "(970, 768)"
      ]
     },
     "execution_count": 43,
     "metadata": {},
     "output_type": "execute_result"
    }
   ],
   "source": [
    "bert_fntest.shape"
   ]
  },
  {
   "cell_type": "markdown",
   "metadata": {},
   "source": [
    "# 5. Train - Linear SVM"
   ]
  },
  {
   "cell_type": "markdown",
   "metadata": {},
   "source": [
    "# 5.1. Bag of Words"
   ]
  },
  {
   "cell_type": "code",
   "execution_count": 44,
   "metadata": {},
   "outputs": [
    {
     "name": "stderr",
     "output_type": "stream",
     "text": [
      "C:\\Users\\Public\\anaconda3\\lib\\site-packages\\sklearn\\svm\\_base.py:976: ConvergenceWarning: Liblinear failed to converge, increase the number of iterations.\n",
      "  warnings.warn(\"Liblinear failed to converge, increase \"\n"
     ]
    },
    {
     "name": "stdout",
     "output_type": "stream",
     "text": [
      "Took 6.480081081390381 seconds\n"
     ]
    }
   ],
   "source": [
    "#import linear SVM model\n",
    "from sklearn.svm import LinearSVC\n",
    "\n",
    "lsvm = LinearSVC()\n",
    "\n",
    "# specify the hyperparameters and their values\n",
    "param_grid = {\n",
    "    'C': [0.1, 0.5, 1, 2, 4, 6, 8, 10],\n",
    "    'max_iter': [1000],\n",
    "    'random_state': [7]\n",
    "}\n",
    "\n",
    "#5-fold cross-validation is used\n",
    "grid_search = GridSearchCV(lsvm, param_grid, cv=5,\n",
    "                           scoring='f1_macro', \n",
    "                           return_train_score=True) \n",
    "\n",
    "start = time.time()\n",
    "grid_search.fit(bow_fntrain, target_fntrain)\n",
    "end = time.time() - start\n",
    "print(f\"Took {end} seconds\")"
   ]
  },
  {
   "cell_type": "code",
   "execution_count": 45,
   "metadata": {},
   "outputs": [
    {
     "data": {
      "text/plain": [
       "LinearSVC(C=0.5, random_state=7)"
      ]
     },
     "execution_count": 45,
     "metadata": {},
     "output_type": "execute_result"
    }
   ],
   "source": [
    "#display the best parameters\n",
    "grid_search.best_estimator_"
   ]
  },
  {
   "cell_type": "code",
   "execution_count": 46,
   "metadata": {},
   "outputs": [
    {
     "data": {
      "text/plain": [
       "0.6692016333044111"
      ]
     },
     "execution_count": 46,
     "metadata": {},
     "output_type": "execute_result"
    }
   ],
   "source": [
    "#display the best cross-validation score\n",
    "grid_search.best_score_"
   ]
  },
  {
   "cell_type": "code",
   "execution_count": 47,
   "metadata": {},
   "outputs": [
    {
     "name": "stdout",
     "output_type": "stream",
     "text": [
      "0.6692016333044111 0.9931490472728166 {'C': 0.5, 'max_iter': 1000, 'random_state': 7}\n",
      "0.6644169422699014 0.9955336315280763 {'C': 1, 'max_iter': 1000, 'random_state': 7}\n",
      "0.6577772400005539 0.9975369787111859 {'C': 2, 'max_iter': 1000, 'random_state': 7}\n",
      "0.650364830518254 0.9987475987764345 {'C': 4, 'max_iter': 1000, 'random_state': 7}\n",
      "0.646054062687716 0.9987475987764345 {'C': 6, 'max_iter': 1000, 'random_state': 7}\n",
      "0.6448313067485112 0.9684196300671115 {'C': 0.1, 'max_iter': 1000, 'random_state': 7}\n",
      "0.6436359294133001 0.9989981549935084 {'C': 8, 'max_iter': 1000, 'random_state': 7}\n",
      "0.6394991138459649 0.9991231482056925 {'C': 10, 'max_iter': 1000, 'random_state': 7}\n"
     ]
    }
   ],
   "source": [
    "#display the cross-validation in a descending order of performance\n",
    "val_scores = grid_search.cv_results_[\"mean_test_score\"]\n",
    "train_scores = grid_search.cv_results_[\"mean_train_score\"]\n",
    "params = [str(x) for x in grid_search.cv_results_[\"params\"]]\n",
    "\n",
    "for val_score, train_score, param in sorted(zip(val_scores, train_scores, params), reverse=True):\n",
    "    print(val_score, train_score, param)"
   ]
  },
  {
   "cell_type": "markdown",
   "metadata": {},
   "source": [
    "Save the best model"
   ]
  },
  {
   "cell_type": "code",
   "execution_count": 48,
   "metadata": {},
   "outputs": [
    {
     "data": {
      "text/plain": [
       "['ML-models/bow-lsvm-fnclf.joblib']"
      ]
     },
     "execution_count": 48,
     "metadata": {},
     "output_type": "execute_result"
    }
   ],
   "source": [
    "import os\n",
    "from joblib import dump\n",
    "\n",
    "# create a folder where all trained models will be kept\n",
    "if not os.path.exists(\"ML-models\"):\n",
    "    os.makedirs(\"ML-models\")\n",
    "\n",
    "#save the best model\n",
    "dump(grid_search.best_estimator_, 'ML-models/bow-lsvm-fnclf.joblib')"
   ]
  },
  {
   "cell_type": "markdown",
   "metadata": {},
   "source": [
    "# 5.2. Universal Sentence Encoder"
   ]
  },
  {
   "cell_type": "code",
   "execution_count": 49,
   "metadata": {},
   "outputs": [
    {
     "name": "stdout",
     "output_type": "stream",
     "text": [
      "Took 60.64843797683716 seconds\n"
     ]
    }
   ],
   "source": [
    "#import linear SVM model\n",
    "from sklearn.svm import LinearSVC\n",
    "\n",
    "lsvm = LinearSVC()\n",
    "\n",
    "# specify the hyperparameters and their values\n",
    "param_grid = {\n",
    "    'C': [0.1, 0.5, 1, 2, 4, 6, 8, 10],\n",
    "    'max_iter': [1000],\n",
    "    'random_state': [7]\n",
    "}\n",
    "\n",
    "#5-fold cross-validation is used\n",
    "grid_search = GridSearchCV(lsvm, param_grid, cv=5,\n",
    "                           scoring='f1_macro', \n",
    "                           return_train_score=True) \n",
    "\n",
    "start = time.time()\n",
    "grid_search.fit(use_fntrain, target_fntrain)\n",
    "end = time.time() - start\n",
    "print(f\"Took {end} seconds\")"
   ]
  },
  {
   "cell_type": "code",
   "execution_count": 50,
   "metadata": {},
   "outputs": [
    {
     "data": {
      "text/plain": [
       "LinearSVC(C=2, random_state=7)"
      ]
     },
     "execution_count": 50,
     "metadata": {},
     "output_type": "execute_result"
    }
   ],
   "source": [
    "#display the best parameters\n",
    "grid_search.best_estimator_"
   ]
  },
  {
   "cell_type": "code",
   "execution_count": 51,
   "metadata": {},
   "outputs": [
    {
     "data": {
      "text/plain": [
       "0.7160537604842404"
      ]
     },
     "execution_count": 51,
     "metadata": {},
     "output_type": "execute_result"
    }
   ],
   "source": [
    "#display the best cross-validation score\n",
    "grid_search.best_score_"
   ]
  },
  {
   "cell_type": "code",
   "execution_count": 52,
   "metadata": {},
   "outputs": [
    {
     "name": "stdout",
     "output_type": "stream",
     "text": [
      "0.7160537604842404 0.8402469879922891 {'C': 2, 'max_iter': 1000, 'random_state': 7}\n",
      "0.7147148068048341 0.8249794304265405 {'C': 1, 'max_iter': 1000, 'random_state': 7}\n",
      "0.7118364944487945 0.869176715230427 {'C': 10, 'max_iter': 1000, 'random_state': 7}\n",
      "0.7117024427555947 0.8067676860138263 {'C': 0.5, 'max_iter': 1000, 'random_state': 7}\n",
      "0.7102727105534814 0.8662579041272075 {'C': 8, 'max_iter': 1000, 'random_state': 7}\n",
      "0.7099618763198788 0.8552267781164067 {'C': 4, 'max_iter': 1000, 'random_state': 7}\n",
      "0.709819346628646 0.8621802476068849 {'C': 6, 'max_iter': 1000, 'random_state': 7}\n",
      "0.6906157074333434 0.7471947011793063 {'C': 0.1, 'max_iter': 1000, 'random_state': 7}\n"
     ]
    }
   ],
   "source": [
    "val_scores = grid_search.cv_results_[\"mean_test_score\"]\n",
    "train_scores = grid_search.cv_results_[\"mean_train_score\"]\n",
    "params = [str(x) for x in grid_search.cv_results_[\"params\"]]\n",
    "\n",
    "for val_score, train_score, param in sorted(zip(val_scores, train_scores, params), reverse=True):\n",
    "    print(val_score, train_score, param)"
   ]
  },
  {
   "cell_type": "markdown",
   "metadata": {},
   "source": [
    "Save the best SVM Model"
   ]
  },
  {
   "cell_type": "code",
   "execution_count": 53,
   "metadata": {},
   "outputs": [
    {
     "data": {
      "text/plain": [
       "['ML-models/use-lsvm-fnclf.joblib']"
      ]
     },
     "execution_count": 53,
     "metadata": {},
     "output_type": "execute_result"
    }
   ],
   "source": [
    "dump(grid_search.best_estimator_, 'ML-models/use-lsvm-fnclf.joblib')"
   ]
  },
  {
   "cell_type": "markdown",
   "metadata": {},
   "source": [
    "# 5.3. BERT"
   ]
  },
  {
   "cell_type": "code",
   "execution_count": 54,
   "metadata": {},
   "outputs": [
    {
     "name": "stderr",
     "output_type": "stream",
     "text": [
      "C:\\Users\\Public\\anaconda3\\lib\\site-packages\\sklearn\\svm\\_base.py:976: ConvergenceWarning: Liblinear failed to converge, increase the number of iterations.\n",
      "  warnings.warn(\"Liblinear failed to converge, increase \"\n",
      "C:\\Users\\Public\\anaconda3\\lib\\site-packages\\sklearn\\svm\\_base.py:976: ConvergenceWarning: Liblinear failed to converge, increase the number of iterations.\n",
      "  warnings.warn(\"Liblinear failed to converge, increase \"\n",
      "C:\\Users\\Public\\anaconda3\\lib\\site-packages\\sklearn\\svm\\_base.py:976: ConvergenceWarning: Liblinear failed to converge, increase the number of iterations.\n",
      "  warnings.warn(\"Liblinear failed to converge, increase \"\n",
      "C:\\Users\\Public\\anaconda3\\lib\\site-packages\\sklearn\\svm\\_base.py:976: ConvergenceWarning: Liblinear failed to converge, increase the number of iterations.\n",
      "  warnings.warn(\"Liblinear failed to converge, increase \"\n",
      "C:\\Users\\Public\\anaconda3\\lib\\site-packages\\sklearn\\svm\\_base.py:976: ConvergenceWarning: Liblinear failed to converge, increase the number of iterations.\n",
      "  warnings.warn(\"Liblinear failed to converge, increase \"\n",
      "C:\\Users\\Public\\anaconda3\\lib\\site-packages\\sklearn\\svm\\_base.py:976: ConvergenceWarning: Liblinear failed to converge, increase the number of iterations.\n",
      "  warnings.warn(\"Liblinear failed to converge, increase \"\n",
      "C:\\Users\\Public\\anaconda3\\lib\\site-packages\\sklearn\\svm\\_base.py:976: ConvergenceWarning: Liblinear failed to converge, increase the number of iterations.\n",
      "  warnings.warn(\"Liblinear failed to converge, increase \"\n",
      "C:\\Users\\Public\\anaconda3\\lib\\site-packages\\sklearn\\svm\\_base.py:976: ConvergenceWarning: Liblinear failed to converge, increase the number of iterations.\n",
      "  warnings.warn(\"Liblinear failed to converge, increase \"\n",
      "C:\\Users\\Public\\anaconda3\\lib\\site-packages\\sklearn\\svm\\_base.py:976: ConvergenceWarning: Liblinear failed to converge, increase the number of iterations.\n",
      "  warnings.warn(\"Liblinear failed to converge, increase \"\n",
      "C:\\Users\\Public\\anaconda3\\lib\\site-packages\\sklearn\\svm\\_base.py:976: ConvergenceWarning: Liblinear failed to converge, increase the number of iterations.\n",
      "  warnings.warn(\"Liblinear failed to converge, increase \"\n",
      "C:\\Users\\Public\\anaconda3\\lib\\site-packages\\sklearn\\svm\\_base.py:976: ConvergenceWarning: Liblinear failed to converge, increase the number of iterations.\n",
      "  warnings.warn(\"Liblinear failed to converge, increase \"\n",
      "C:\\Users\\Public\\anaconda3\\lib\\site-packages\\sklearn\\svm\\_base.py:976: ConvergenceWarning: Liblinear failed to converge, increase the number of iterations.\n",
      "  warnings.warn(\"Liblinear failed to converge, increase \"\n",
      "C:\\Users\\Public\\anaconda3\\lib\\site-packages\\sklearn\\svm\\_base.py:976: ConvergenceWarning: Liblinear failed to converge, increase the number of iterations.\n",
      "  warnings.warn(\"Liblinear failed to converge, increase \"\n",
      "C:\\Users\\Public\\anaconda3\\lib\\site-packages\\sklearn\\svm\\_base.py:976: ConvergenceWarning: Liblinear failed to converge, increase the number of iterations.\n",
      "  warnings.warn(\"Liblinear failed to converge, increase \"\n",
      "C:\\Users\\Public\\anaconda3\\lib\\site-packages\\sklearn\\svm\\_base.py:976: ConvergenceWarning: Liblinear failed to converge, increase the number of iterations.\n",
      "  warnings.warn(\"Liblinear failed to converge, increase \"\n",
      "C:\\Users\\Public\\anaconda3\\lib\\site-packages\\sklearn\\svm\\_base.py:976: ConvergenceWarning: Liblinear failed to converge, increase the number of iterations.\n",
      "  warnings.warn(\"Liblinear failed to converge, increase \"\n",
      "C:\\Users\\Public\\anaconda3\\lib\\site-packages\\sklearn\\svm\\_base.py:976: ConvergenceWarning: Liblinear failed to converge, increase the number of iterations.\n",
      "  warnings.warn(\"Liblinear failed to converge, increase \"\n",
      "C:\\Users\\Public\\anaconda3\\lib\\site-packages\\sklearn\\svm\\_base.py:976: ConvergenceWarning: Liblinear failed to converge, increase the number of iterations.\n",
      "  warnings.warn(\"Liblinear failed to converge, increase \"\n",
      "C:\\Users\\Public\\anaconda3\\lib\\site-packages\\sklearn\\svm\\_base.py:976: ConvergenceWarning: Liblinear failed to converge, increase the number of iterations.\n",
      "  warnings.warn(\"Liblinear failed to converge, increase \"\n",
      "C:\\Users\\Public\\anaconda3\\lib\\site-packages\\sklearn\\svm\\_base.py:976: ConvergenceWarning: Liblinear failed to converge, increase the number of iterations.\n",
      "  warnings.warn(\"Liblinear failed to converge, increase \"\n",
      "C:\\Users\\Public\\anaconda3\\lib\\site-packages\\sklearn\\svm\\_base.py:976: ConvergenceWarning: Liblinear failed to converge, increase the number of iterations.\n",
      "  warnings.warn(\"Liblinear failed to converge, increase \"\n",
      "C:\\Users\\Public\\anaconda3\\lib\\site-packages\\sklearn\\svm\\_base.py:976: ConvergenceWarning: Liblinear failed to converge, increase the number of iterations.\n",
      "  warnings.warn(\"Liblinear failed to converge, increase \"\n",
      "C:\\Users\\Public\\anaconda3\\lib\\site-packages\\sklearn\\svm\\_base.py:976: ConvergenceWarning: Liblinear failed to converge, increase the number of iterations.\n",
      "  warnings.warn(\"Liblinear failed to converge, increase \"\n",
      "C:\\Users\\Public\\anaconda3\\lib\\site-packages\\sklearn\\svm\\_base.py:976: ConvergenceWarning: Liblinear failed to converge, increase the number of iterations.\n",
      "  warnings.warn(\"Liblinear failed to converge, increase \"\n",
      "C:\\Users\\Public\\anaconda3\\lib\\site-packages\\sklearn\\svm\\_base.py:976: ConvergenceWarning: Liblinear failed to converge, increase the number of iterations.\n",
      "  warnings.warn(\"Liblinear failed to converge, increase \"\n",
      "C:\\Users\\Public\\anaconda3\\lib\\site-packages\\sklearn\\svm\\_base.py:976: ConvergenceWarning: Liblinear failed to converge, increase the number of iterations.\n",
      "  warnings.warn(\"Liblinear failed to converge, increase \"\n",
      "C:\\Users\\Public\\anaconda3\\lib\\site-packages\\sklearn\\svm\\_base.py:976: ConvergenceWarning: Liblinear failed to converge, increase the number of iterations.\n",
      "  warnings.warn(\"Liblinear failed to converge, increase \"\n",
      "C:\\Users\\Public\\anaconda3\\lib\\site-packages\\sklearn\\svm\\_base.py:976: ConvergenceWarning: Liblinear failed to converge, increase the number of iterations.\n",
      "  warnings.warn(\"Liblinear failed to converge, increase \"\n",
      "C:\\Users\\Public\\anaconda3\\lib\\site-packages\\sklearn\\svm\\_base.py:976: ConvergenceWarning: Liblinear failed to converge, increase the number of iterations.\n",
      "  warnings.warn(\"Liblinear failed to converge, increase \"\n",
      "C:\\Users\\Public\\anaconda3\\lib\\site-packages\\sklearn\\svm\\_base.py:976: ConvergenceWarning: Liblinear failed to converge, increase the number of iterations.\n",
      "  warnings.warn(\"Liblinear failed to converge, increase \"\n",
      "C:\\Users\\Public\\anaconda3\\lib\\site-packages\\sklearn\\svm\\_base.py:976: ConvergenceWarning: Liblinear failed to converge, increase the number of iterations.\n",
      "  warnings.warn(\"Liblinear failed to converge, increase \"\n",
      "C:\\Users\\Public\\anaconda3\\lib\\site-packages\\sklearn\\svm\\_base.py:976: ConvergenceWarning: Liblinear failed to converge, increase the number of iterations.\n",
      "  warnings.warn(\"Liblinear failed to converge, increase \"\n",
      "C:\\Users\\Public\\anaconda3\\lib\\site-packages\\sklearn\\svm\\_base.py:976: ConvergenceWarning: Liblinear failed to converge, increase the number of iterations.\n",
      "  warnings.warn(\"Liblinear failed to converge, increase \"\n",
      "C:\\Users\\Public\\anaconda3\\lib\\site-packages\\sklearn\\svm\\_base.py:976: ConvergenceWarning: Liblinear failed to converge, increase the number of iterations.\n",
      "  warnings.warn(\"Liblinear failed to converge, increase \"\n",
      "C:\\Users\\Public\\anaconda3\\lib\\site-packages\\sklearn\\svm\\_base.py:976: ConvergenceWarning: Liblinear failed to converge, increase the number of iterations.\n",
      "  warnings.warn(\"Liblinear failed to converge, increase \"\n",
      "C:\\Users\\Public\\anaconda3\\lib\\site-packages\\sklearn\\svm\\_base.py:976: ConvergenceWarning: Liblinear failed to converge, increase the number of iterations.\n",
      "  warnings.warn(\"Liblinear failed to converge, increase \"\n",
      "C:\\Users\\Public\\anaconda3\\lib\\site-packages\\sklearn\\svm\\_base.py:976: ConvergenceWarning: Liblinear failed to converge, increase the number of iterations.\n",
      "  warnings.warn(\"Liblinear failed to converge, increase \"\n",
      "C:\\Users\\Public\\anaconda3\\lib\\site-packages\\sklearn\\svm\\_base.py:976: ConvergenceWarning: Liblinear failed to converge, increase the number of iterations.\n",
      "  warnings.warn(\"Liblinear failed to converge, increase \"\n"
     ]
    },
    {
     "name": "stdout",
     "output_type": "stream",
     "text": [
      "Took 626.7612457275391 seconds\n"
     ]
    },
    {
     "name": "stderr",
     "output_type": "stream",
     "text": [
      "C:\\Users\\Public\\anaconda3\\lib\\site-packages\\sklearn\\svm\\_base.py:976: ConvergenceWarning: Liblinear failed to converge, increase the number of iterations.\n",
      "  warnings.warn(\"Liblinear failed to converge, increase \"\n"
     ]
    }
   ],
   "source": [
    "#import linear SVM model\n",
    "from sklearn.svm import LinearSVC\n",
    "\n",
    "lsvm = LinearSVC()\n",
    "\n",
    "# specify the hyperparameters and their values\n",
    "param_grid = {\n",
    "    'C': [0.1, 0.5, 1, 2, 4, 6, 8, 10],\n",
    "    'max_iter': [1000],\n",
    "    'random_state': [7]\n",
    "}\n",
    "\n",
    "#5-fold cross-validation is used\n",
    "grid_search = GridSearchCV(lsvm, param_grid, cv=5,\n",
    "                           scoring='f1_macro', \n",
    "                           return_train_score=True) \n",
    "\n",
    "start = time.time()\n",
    "grid_search.fit(bert_fntrain, target_fntrain)\n",
    "end = time.time() - start\n",
    "print(f\"Took {end} seconds\")"
   ]
  },
  {
   "cell_type": "code",
   "execution_count": 55,
   "metadata": {},
   "outputs": [
    {
     "data": {
      "text/plain": [
       "LinearSVC(C=0.5, random_state=7)"
      ]
     },
     "execution_count": 55,
     "metadata": {},
     "output_type": "execute_result"
    }
   ],
   "source": [
    "#display the best parameters\n",
    "grid_search.best_estimator_"
   ]
  },
  {
   "cell_type": "code",
   "execution_count": 56,
   "metadata": {},
   "outputs": [
    {
     "data": {
      "text/plain": [
       "0.7061202540460015"
      ]
     },
     "execution_count": 56,
     "metadata": {},
     "output_type": "execute_result"
    }
   ],
   "source": [
    "#display the best cross-validation score\n",
    "grid_search.best_score_"
   ]
  },
  {
   "cell_type": "code",
   "execution_count": 57,
   "metadata": {},
   "outputs": [
    {
     "name": "stdout",
     "output_type": "stream",
     "text": [
      "0.7061202540460015 0.8229967403063547 {'C': 0.5, 'max_iter': 1000, 'random_state': 7}\n",
      "0.6933509041671161 0.8192149498188586 {'C': 2, 'max_iter': 1000, 'random_state': 7}\n",
      "0.6928330787343648 0.7656731777566906 {'C': 0.1, 'max_iter': 1000, 'random_state': 7}\n",
      "0.6924528689880661 0.838100454478589 {'C': 4, 'max_iter': 1000, 'random_state': 7}\n",
      "0.6912789150635454 0.8312701763761938 {'C': 1, 'max_iter': 1000, 'random_state': 7}\n",
      "0.6842059874750579 0.813990890632053 {'C': 8, 'max_iter': 1000, 'random_state': 7}\n",
      "0.6706023580145368 0.8163527151818941 {'C': 6, 'max_iter': 1000, 'random_state': 7}\n",
      "0.6330288001816967 0.7628387693052474 {'C': 10, 'max_iter': 1000, 'random_state': 7}\n"
     ]
    }
   ],
   "source": [
    "val_scores = grid_search.cv_results_[\"mean_test_score\"]\n",
    "train_scores = grid_search.cv_results_[\"mean_train_score\"]\n",
    "params = [str(x) for x in grid_search.cv_results_[\"params\"]]\n",
    "\n",
    "for val_score, train_score, param in sorted(zip(val_scores, train_scores, params), reverse=True):\n",
    "    print(val_score, train_score, param)"
   ]
  },
  {
   "cell_type": "markdown",
   "metadata": {},
   "source": [
    "Save the best SVM Model"
   ]
  },
  {
   "cell_type": "code",
   "execution_count": 58,
   "metadata": {},
   "outputs": [
    {
     "data": {
      "text/plain": [
       "['ML-models/bert-lsvm-fnclf.joblib']"
      ]
     },
     "execution_count": 58,
     "metadata": {},
     "output_type": "execute_result"
    }
   ],
   "source": [
    "dump(grid_search.best_estimator_, 'ML-models/bert-lsvm-fnclf.joblib')"
   ]
  },
  {
   "cell_type": "markdown",
   "metadata": {},
   "source": [
    "# 6. Sentiment Analysis using the Best Models - SVM"
   ]
  },
  {
   "cell_type": "markdown",
   "metadata": {},
   "source": [
    "Loading all three models:"
   ]
  },
  {
   "cell_type": "code",
   "execution_count": 59,
   "metadata": {},
   "outputs": [],
   "source": [
    "from joblib import load\n",
    "\n",
    "#loading the best lsvm models for bow, use and bert\n",
    "bow_lsvm = load(\"ML-models/bow-lsvm-fnclf.joblib\")\n",
    "use_lsvm = load(\"ML-models/use-lsvm-fnclf.joblib\")\n",
    "bert_lsvm = load(\"ML-models/bert-lsvm-fnclf.joblib\")"
   ]
  },
  {
   "cell_type": "markdown",
   "metadata": {},
   "source": [
    "## 6.1. BOW"
   ]
  },
  {
   "cell_type": "code",
   "execution_count": 60,
   "metadata": {},
   "outputs": [
    {
     "name": "stdout",
     "output_type": "stream",
     "text": [
      "Bag of Words Linear SVM Model:\n",
      "Precision: 0.6751923758502706\n",
      "Recall: 0.6367711014467027\n",
      "F score: 0.6522739824195661\n"
     ]
    }
   ],
   "source": [
    "from sklearn.metrics import precision_recall_fscore_support\n",
    "# bow-lsvm\n",
    "bow_yhat = bow_lsvm.predict(bow_fntest)\n",
    "\n",
    "# macro-averaged precision, recall and f-score\n",
    "p, r, f, s = precision_recall_fscore_support(target_fntest, bow_yhat, average=\"macro\")\n",
    "print(\"Bag of Words Linear SVM Model:\")\n",
    "print(f\"Precision: {p}\")\n",
    "print(f\"Recall: {r}\")\n",
    "print(f\"F score: {f}\")"
   ]
  },
  {
   "cell_type": "markdown",
   "metadata": {},
   "source": [
    "Plot the confusion matrix"
   ]
  },
  {
   "cell_type": "code",
   "execution_count": 61,
   "metadata": {
    "scrolled": true
   },
   "outputs": [
    {
     "data": {
      "text/plain": [
       "<sklearn.metrics._plot.confusion_matrix.ConfusionMatrixDisplay at 0x1df24a715b0>"
      ]
     },
     "execution_count": 61,
     "metadata": {},
     "output_type": "execute_result"
    },
    {
     "data": {
      "image/png": "[encoded data removed]",
      "text/plain": [
       "<Figure size 432x288 with 2 Axes>"
      ]
     },
     "metadata": {
      "needs_background": "light"
     },
     "output_type": "display_data"
    }
   ],
   "source": [
    "import matplotlib.pyplot as plt\n",
    "from sklearn.metrics import plot_confusion_matrix\n",
    "\n",
    "plot_confusion_matrix(bow_lsvm, bow_fntest, target_fntest,\n",
    "                                 cmap=plt.cm.Blues,\n",
    "                                 normalize='true')"
   ]
  },
  {
   "cell_type": "markdown",
   "metadata": {},
   "source": [
    "## 6.2. Universal Sentence Encoder"
   ]
  },
  {
   "cell_type": "code",
   "execution_count": 62,
   "metadata": {},
   "outputs": [
    {
     "name": "stdout",
     "output_type": "stream",
     "text": [
      "Universal Sentence Encoder Linear SVM Model:\n",
      "Precision: 0.6996658302917425\n",
      "Recall: 0.6744652525073223\n",
      "F score: 0.6855509899893245\n"
     ]
    }
   ],
   "source": [
    "# use_lsvm\n",
    "use_yhat = use_lsvm.predict(use_fntest)\n",
    "\n",
    "# macro-averaged precision, recall and f-score\n",
    "p, r, f, s = precision_recall_fscore_support(target_fntest, use_yhat, average=\"macro\")\n",
    "print(\"Universal Sentence Encoder Linear SVM Model:\")\n",
    "print(f\"Precision: {p}\")\n",
    "print(f\"Recall: {r}\")\n",
    "print(f\"F score: {f}\")"
   ]
  },
  {
   "cell_type": "markdown",
   "metadata": {},
   "source": [
    "Plot the confusion matrix"
   ]
  },
  {
   "cell_type": "code",
   "execution_count": 63,
   "metadata": {},
   "outputs": [
    {
     "data": {
      "text/plain": [
       "<sklearn.metrics._plot.confusion_matrix.ConfusionMatrixDisplay at 0x1df24abe160>"
      ]
     },
     "execution_count": 63,
     "metadata": {},
     "output_type": "execute_result"
    },
    {
     "data": {
      "image/png": "[encoded data removed]",
      "text/plain": [
       "<Figure size 432x288 with 2 Axes>"
      ]
     },
     "metadata": {
      "needs_background": "light"
     },
     "output_type": "display_data"
    }
   ],
   "source": [
    "plot_confusion_matrix(use_lsvm, use_fntest, target_fntest,\n",
    "                                 cmap=plt.cm.Blues,\n",
    "                                 normalize='true')"
   ]
  },
  {
   "cell_type": "markdown",
   "metadata": {},
   "source": [
    "## 6.3. BERT"
   ]
  },
  {
   "cell_type": "code",
   "execution_count": 64,
   "metadata": {},
   "outputs": [
    {
     "name": "stdout",
     "output_type": "stream",
     "text": [
      "BERT Linear SVM Model:\n",
      "Precision: 0.7423681493010017\n",
      "Recall: 0.7055021130462684\n",
      "F score: 0.7217719029683701\n"
     ]
    }
   ],
   "source": [
    "# bert-lsvm\n",
    "bert_yhat = bert_lsvm.predict(bert_fntest)\n",
    "\n",
    "# macro-averaged precision, recall and f-score\n",
    "p, r, f, s = precision_recall_fscore_support(target_fntest, bert_yhat, average=\"macro\")\n",
    "print(\"BERT Linear SVM Model:\")\n",
    "print(f\"Precision: {p}\")\n",
    "print(f\"Recall: {r}\")\n",
    "print(f\"F score: {f}\")"
   ]
  },
  {
   "cell_type": "markdown",
   "metadata": {},
   "source": [
    "Plot the confusion matrix"
   ]
  },
  {
   "cell_type": "code",
   "execution_count": 65,
   "metadata": {
    "scrolled": false
   },
   "outputs": [
    {
     "data": {
      "text/plain": [
       "<sklearn.metrics._plot.confusion_matrix.ConfusionMatrixDisplay at 0x1df2a562d00>"
      ]
     },
     "execution_count": 65,
     "metadata": {},
     "output_type": "execute_result"
    },
    {
     "data": {
      "image/png": "[encoded data removed]",
      "text/plain": [
       "<Figure size 432x288 with 2 Axes>"
      ]
     },
     "metadata": {
      "needs_background": "light"
     },
     "output_type": "display_data"
    }
   ],
   "source": [
    "plot_confusion_matrix(bert_lsvm, bert_fntest, target_fntest,\n",
    "                                 cmap=plt.cm.Blues,\n",
    "                                 normalize='true')"
   ]
  },
  {
   "cell_type": "markdown",
   "metadata": {},
   "source": [
    "# 7. Sentiment Analysis using BERT & Neural Networks"
   ]
  },
  {
   "cell_type": "markdown",
   "metadata": {},
   "source": [
    "## Train"
   ]
  },
  {
   "cell_type": "code",
   "execution_count": 75,
   "metadata": {
    "scrolled": true
   },
   "outputs": [
    {
     "name": "stderr",
     "output_type": "stream",
     "text": [
      "C:\\Users\\Public\\anaconda3\\lib\\site-packages\\sklearn\\neural_network\\_multilayer_perceptron.py:582: ConvergenceWarning: Stochastic Optimizer: Maximum iterations (150) reached and the optimization hasn't converged yet.\n",
      "  warnings.warn(\n",
      "C:\\Users\\Public\\anaconda3\\lib\\site-packages\\sklearn\\neural_network\\_multilayer_perceptron.py:582: ConvergenceWarning: Stochastic Optimizer: Maximum iterations (150) reached and the optimization hasn't converged yet.\n",
      "  warnings.warn(\n",
      "C:\\Users\\Public\\anaconda3\\lib\\site-packages\\sklearn\\neural_network\\_multilayer_perceptron.py:582: ConvergenceWarning: Stochastic Optimizer: Maximum iterations (150) reached and the optimization hasn't converged yet.\n",
      "  warnings.warn(\n",
      "C:\\Users\\Public\\anaconda3\\lib\\site-packages\\sklearn\\neural_network\\_multilayer_perceptron.py:582: ConvergenceWarning: Stochastic Optimizer: Maximum iterations (150) reached and the optimization hasn't converged yet.\n",
      "  warnings.warn(\n",
      "C:\\Users\\Public\\anaconda3\\lib\\site-packages\\sklearn\\neural_network\\_multilayer_perceptron.py:582: ConvergenceWarning: Stochastic Optimizer: Maximum iterations (200) reached and the optimization hasn't converged yet.\n",
      "  warnings.warn(\n",
      "C:\\Users\\Public\\anaconda3\\lib\\site-packages\\sklearn\\neural_network\\_multilayer_perceptron.py:582: ConvergenceWarning: Stochastic Optimizer: Maximum iterations (150) reached and the optimization hasn't converged yet.\n",
      "  warnings.warn(\n",
      "C:\\Users\\Public\\anaconda3\\lib\\site-packages\\sklearn\\neural_network\\_multilayer_perceptron.py:582: ConvergenceWarning: Stochastic Optimizer: Maximum iterations (150) reached and the optimization hasn't converged yet.\n",
      "  warnings.warn(\n",
      "C:\\Users\\Public\\anaconda3\\lib\\site-packages\\sklearn\\neural_network\\_multilayer_perceptron.py:582: ConvergenceWarning: Stochastic Optimizer: Maximum iterations (200) reached and the optimization hasn't converged yet.\n",
      "  warnings.warn(\n",
      "C:\\Users\\Public\\anaconda3\\lib\\site-packages\\sklearn\\neural_network\\_multilayer_perceptron.py:582: ConvergenceWarning: Stochastic Optimizer: Maximum iterations (150) reached and the optimization hasn't converged yet.\n",
      "  warnings.warn(\n",
      "C:\\Users\\Public\\anaconda3\\lib\\site-packages\\sklearn\\neural_network\\_multilayer_perceptron.py:582: ConvergenceWarning: Stochastic Optimizer: Maximum iterations (150) reached and the optimization hasn't converged yet.\n",
      "  warnings.warn(\n",
      "C:\\Users\\Public\\anaconda3\\lib\\site-packages\\sklearn\\neural_network\\_multilayer_perceptron.py:582: ConvergenceWarning: Stochastic Optimizer: Maximum iterations (200) reached and the optimization hasn't converged yet.\n",
      "  warnings.warn(\n",
      "C:\\Users\\Public\\anaconda3\\lib\\site-packages\\sklearn\\neural_network\\_multilayer_perceptron.py:582: ConvergenceWarning: Stochastic Optimizer: Maximum iterations (200) reached and the optimization hasn't converged yet.\n",
      "  warnings.warn(\n",
      "C:\\Users\\Public\\anaconda3\\lib\\site-packages\\sklearn\\neural_network\\_multilayer_perceptron.py:582: ConvergenceWarning: Stochastic Optimizer: Maximum iterations (150) reached and the optimization hasn't converged yet.\n",
      "  warnings.warn(\n"
     ]
    },
    {
     "name": "stdout",
     "output_type": "stream",
     "text": [
      "Took 1749.0622384548187 seconds\n"
     ]
    }
   ],
   "source": [
    "from sklearn.neural_network import MLPClassifier\n",
    "\n",
    "mlp = MLPClassifier()\n",
    "\n",
    "# specify the hyperparameters and their values\n",
    "param_grid = {\n",
    "    'hidden_layer_sizes': [(100,), (200,), (100, 50,), (100, 100,), (100, 50, 25,)],\n",
    "    'solver': ['adam'],\n",
    "    'learning_rate': ['constant'],\n",
    "    'max_iter': [150, 200, 250],\n",
    "    'random_state': [7]\n",
    "}\n",
    "\n",
    "#5-fold cross-validation is used\n",
    "grid_search = GridSearchCV(mlp, param_grid, cv=5,\n",
    "                           scoring='f1_macro', \n",
    "                           return_train_score=True) \n",
    "\n",
    "start = time.time()\n",
    "grid_search.fit(bert_fntrain, target_fntrain)\n",
    "end = time.time() - start\n",
    "print(f\"Took {end} seconds\")"
   ]
  },
  {
   "cell_type": "code",
   "execution_count": 76,
   "metadata": {},
   "outputs": [
    {
     "data": {
      "text/plain": [
       "0.6848252278403341"
      ]
     },
     "execution_count": 76,
     "metadata": {},
     "output_type": "execute_result"
    }
   ],
   "source": [
    "grid_search.best_score_"
   ]
  },
  {
   "cell_type": "code",
   "execution_count": 77,
   "metadata": {},
   "outputs": [
    {
     "data": {
      "text/plain": [
       "MLPClassifier(hidden_layer_sizes=(100, 100), max_iter=250, random_state=7)"
      ]
     },
     "execution_count": 77,
     "metadata": {},
     "output_type": "execute_result"
    }
   ],
   "source": [
    "grid_search.best_estimator_"
   ]
  },
  {
   "cell_type": "code",
   "execution_count": 78,
   "metadata": {},
   "outputs": [
    {
     "name": "stdout",
     "output_type": "stream",
     "text": [
      "0.6848252278403341 0.7988553657095395 {'hidden_layer_sizes': (100, 100), 'learning_rate': 'constant', 'max_iter': 250, 'random_state': 7, 'solver': 'adam'}\n",
      "0.6803914598455747 0.7749993276622062 {'hidden_layer_sizes': (100, 100), 'learning_rate': 'constant', 'max_iter': 150, 'random_state': 7, 'solver': 'adam'}\n",
      "0.6796503178111553 0.787700769394763 {'hidden_layer_sizes': (100, 100), 'learning_rate': 'constant', 'max_iter': 200, 'random_state': 7, 'solver': 'adam'}\n",
      "0.6763657762388043 0.7654242509442312 {'hidden_layer_sizes': (100, 50), 'learning_rate': 'constant', 'max_iter': 200, 'random_state': 7, 'solver': 'adam'}\n",
      "0.6756351765532955 0.7653257669522714 {'hidden_layer_sizes': (100, 50), 'learning_rate': 'constant', 'max_iter': 250, 'random_state': 7, 'solver': 'adam'}\n",
      "0.6745368969993549 0.7604147447029124 {'hidden_layer_sizes': (100,), 'learning_rate': 'constant', 'max_iter': 150, 'random_state': 7, 'solver': 'adam'}\n",
      "0.6696958783705391 0.7586780105627373 {'hidden_layer_sizes': (100,), 'learning_rate': 'constant', 'max_iter': 200, 'random_state': 7, 'solver': 'adam'}\n",
      "0.6679982089229093 0.7644724224209398 {'hidden_layer_sizes': (100,), 'learning_rate': 'constant', 'max_iter': 250, 'random_state': 7, 'solver': 'adam'}\n",
      "0.6644585399795596 0.7436094752713276 {'hidden_layer_sizes': (100, 50, 25), 'learning_rate': 'constant', 'max_iter': 150, 'random_state': 7, 'solver': 'adam'}\n",
      "0.6642322465622813 0.7465534426608867 {'hidden_layer_sizes': (100, 50), 'learning_rate': 'constant', 'max_iter': 150, 'random_state': 7, 'solver': 'adam'}\n",
      "0.6559999516210117 0.7319672699789316 {'hidden_layer_sizes': (100, 50, 25), 'learning_rate': 'constant', 'max_iter': 250, 'random_state': 7, 'solver': 'adam'}\n",
      "0.6559999516210117 0.7319672699789316 {'hidden_layer_sizes': (100, 50, 25), 'learning_rate': 'constant', 'max_iter': 200, 'random_state': 7, 'solver': 'adam'}\n",
      "0.6262986127548869 0.6911567728886773 {'hidden_layer_sizes': (200,), 'learning_rate': 'constant', 'max_iter': 250, 'random_state': 7, 'solver': 'adam'}\n",
      "0.6262986127548869 0.6911567728886773 {'hidden_layer_sizes': (200,), 'learning_rate': 'constant', 'max_iter': 200, 'random_state': 7, 'solver': 'adam'}\n",
      "0.6262986127548869 0.6911567728886773 {'hidden_layer_sizes': (200,), 'learning_rate': 'constant', 'max_iter': 150, 'random_state': 7, 'solver': 'adam'}\n"
     ]
    }
   ],
   "source": [
    "val_scores = grid_search.cv_results_[\"mean_test_score\"]\n",
    "train_scores = grid_search.cv_results_[\"mean_train_score\"]\n",
    "params = [str(x) for x in grid_search.cv_results_[\"params\"]]\n",
    "\n",
    "for val_score, train_score, param in sorted(zip(val_scores, train_scores, params), reverse=True):\n",
    "    print(val_score, train_score, param)"
   ]
  },
  {
   "cell_type": "code",
   "execution_count": 79,
   "metadata": {},
   "outputs": [
    {
     "data": {
      "text/plain": [
       "['ML-models/bert-mlp-fnclf.joblib']"
      ]
     },
     "execution_count": 79,
     "metadata": {},
     "output_type": "execute_result"
    }
   ],
   "source": [
    "dump(grid_search.best_estimator_, 'ML-models/bert-mlp-fnclf.joblib')"
   ]
  },
  {
   "cell_type": "markdown",
   "metadata": {},
   "source": [
    "## Test"
   ]
  },
  {
   "cell_type": "code",
   "execution_count": 80,
   "metadata": {},
   "outputs": [],
   "source": [
    "#loading the best bert-mlp model\n",
    "bert_mlp = load(\"ML-models/bert-mlp-fnclf.joblib\")"
   ]
  },
  {
   "cell_type": "code",
   "execution_count": 81,
   "metadata": {},
   "outputs": [
    {
     "name": "stdout",
     "output_type": "stream",
     "text": [
      "BERT MLP Model:\n",
      "Precision: 0.7025523276903695\n",
      "Recall: 0.6939956259828453\n",
      "F score: 0.692328067433881\n"
     ]
    }
   ],
   "source": [
    "from sklearn.metrics import precision_recall_fscore_support\n",
    "# bert-mlp\n",
    "bertmlp_yhat = bert_mlp.predict(bert_fntest)\n",
    "\n",
    "# macro-averaged precision, recall and f-score\n",
    "p, r, f, s = precision_recall_fscore_support(target_fntest, bertmlp_yhat, average=\"macro\")\n",
    "print(\"BERT MLP Model:\")\n",
    "print(f\"Precision: {p}\")\n",
    "print(f\"Recall: {r}\")\n",
    "print(f\"F score: {f}\")"
   ]
  },
  {
   "cell_type": "markdown",
   "metadata": {},
   "source": [
    "Plot the confusion matrix"
   ]
  },
  {
   "cell_type": "code",
   "execution_count": 82,
   "metadata": {},
   "outputs": [
    {
     "data": {
      "text/plain": [
       "<sklearn.metrics._plot.confusion_matrix.ConfusionMatrixDisplay at 0x1df24aa63d0>"
      ]
     },
     "execution_count": 82,
     "metadata": {},
     "output_type": "execute_result"
    },
    {
     "data": {
      "image/png": "[encoded data removed]",
      "text/plain": [
       "<Figure size 432x288 with 2 Axes>"
      ]
     },
     "metadata": {
      "needs_background": "light"
     },
     "output_type": "display_data"
    }
   ],
   "source": [
    "plot_confusion_matrix(bert_mlp, bert_fntest, target_fntest,\n",
    "                                 cmap=plt.cm.Blues,\n",
    "                                 normalize='true')"
   ]
  },
  {
   "cell_type": "code",
   "execution_count": null,
   "metadata": {},
   "outputs": [],
   "source": []
  }
 ],
 "metadata": {
  "kernelspec": {
   "display_name": "Python 3",
   "language": "python",
   "name": "python3"
  },
  "language_info": {
   "codemirror_mode": {
    "name": "ipython",
    "version": 3
   },
   "file_extension": ".py",
   "mimetype": "text/x-python",
   "name": "python",
   "nbconvert_exporter": "python",
   "pygments_lexer": "ipython3",
   "version": "3.8.5"
  }
 },
 "nbformat": 4,
 "nbformat_minor": 4
}
